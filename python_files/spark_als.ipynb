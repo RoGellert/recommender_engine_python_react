{
 "cells": [
  {
   "cell_type": "code",
   "execution_count": 2,
   "id": "329e5415",
   "metadata": {},
   "outputs": [
    {
     "name": "stdout",
     "output_type": "stream",
     "text": [
      "hello pyspark\n"
     ]
    }
   ],
   "source": [
    "print('hello pyspark')"
   ]
  },
  {
   "cell_type": "code",
   "execution_count": 3,
   "id": "0338aa93",
   "metadata": {},
   "outputs": [],
   "source": [
    "import pandas as pd\n",
    "import findspark\n",
    "findspark.init()\n",
    "findspark.find()\n",
    "from pyspark.sql import SparkSession"
   ]
  },
  {
   "cell_type": "code",
   "execution_count": 31,
   "id": "52d2b7fa",
   "metadata": {},
   "outputs": [],
   "source": [
    "spark = SparkSession.builder.appName('SparkAls.com').master('local[*]')\\\n",
    "                .config('spark.driver.memory','10G').config('spark.driver.cores','4')\\\n",
    "                .config('spark.driver.maxResultSize','0').getOrCreate()\n",
    "\n",
    "spark_context = spark._sc\n",
    "\n",
    "spark_context.setCheckpointDir('checkpoint/')"
   ]
  },
  {
   "cell_type": "code",
   "execution_count": 5,
   "id": "992364cd",
   "metadata": {},
   "outputs": [],
   "source": [
    "review_data = pd.read_json('data_for_spark.json')"
   ]
  },
  {
   "cell_type": "code",
   "execution_count": 6,
   "id": "c16723a6",
   "metadata": {},
   "outputs": [],
   "source": [
    "user_and_review_count = pd.read_json('user_and_review_count.json')"
   ]
  },
  {
   "cell_type": "code",
   "execution_count": 32,
   "id": "cfbbb308",
   "metadata": {},
   "outputs": [],
   "source": [
    "df_als = spark.createDataFrame(review_data)"
   ]
  },
  {
   "cell_type": "code",
   "execution_count": 8,
   "id": "dca78d34",
   "metadata": {
    "scrolled": true
   },
   "outputs": [
    {
     "name": "stdout",
     "output_type": "stream",
     "text": [
      "root\n",
      " |-- user_id: long (nullable = true)\n",
      " |-- beer_beerid: long (nullable = true)\n",
      " |-- review_overall: double (nullable = true)\n",
      "\n"
     ]
    }
   ],
   "source": [
    "df_als.printSchema()"
   ]
  },
  {
   "cell_type": "code",
   "execution_count": 9,
   "id": "797aff93",
   "metadata": {},
   "outputs": [
    {
     "name": "stderr",
     "output_type": "stream",
     "text": [
      "22/12/05 19:59:12 WARN TaskSetManager: Stage 0 contains a task of very large size (6477 KiB). The maximum recommended task size is 1000 KiB.\n",
      "                                                                                \r"
     ]
    },
    {
     "data": {
      "text/plain": [
       "[Row(user_id=0, beer_beerid=55404, review_overall=4.5),\n",
       " Row(user_id=0, beer_beerid=5006, review_overall=4.0),\n",
       " Row(user_id=0, beer_beerid=2570, review_overall=3.0),\n",
       " Row(user_id=0, beer_beerid=6754, review_overall=3.5),\n",
       " Row(user_id=0, beer_beerid=5280, review_overall=3.0),\n",
       " Row(user_id=0, beer_beerid=246, review_overall=4.0),\n",
       " Row(user_id=0, beer_beerid=69750, review_overall=5.0),\n",
       " Row(user_id=0, beer_beerid=4694, review_overall=5.0),\n",
       " Row(user_id=0, beer_beerid=4699, review_overall=5.0),\n",
       " Row(user_id=0, beer_beerid=31256, review_overall=5.0)]"
      ]
     },
     "execution_count": 9,
     "metadata": {},
     "output_type": "execute_result"
    }
   ],
   "source": [
    "df_als.take(10)"
   ]
  },
  {
   "cell_type": "code",
   "execution_count": 10,
   "id": "ee9a3849",
   "metadata": {},
   "outputs": [],
   "source": [
    "from pyspark.ml.evaluation import RegressionEvaluator\n",
    "from pyspark.ml.recommendation import ALS"
   ]
  },
  {
   "cell_type": "code",
   "execution_count": 33,
   "id": "34597319",
   "metadata": {},
   "outputs": [],
   "source": [
    "(training, test) = df_als.randomSplit([0.8, 0.2])"
   ]
  },
  {
   "cell_type": "code",
   "execution_count": 42,
   "id": "25c702cf",
   "metadata": {},
   "outputs": [],
   "source": [
    "import time"
   ]
  },
  {
   "cell_type": "code",
   "execution_count": 74,
   "id": "e2ce5f9e",
   "metadata": {},
   "outputs": [
    {
     "name": "stderr",
     "output_type": "stream",
     "text": [
      "22/12/05 21:43:50 WARN TaskSetManager: Stage 21804 contains a task of very large size (6477 KiB). The maximum recommended task size is 1000 KiB.\n",
      "22/12/05 21:43:51 WARN TaskSetManager: Stage 21805 contains a task of very large size (6477 KiB). The maximum recommended task size is 1000 KiB.\n",
      "22/12/05 21:44:59 WARN TaskSetManager: Stage 22298 contains a task of very large size (6477 KiB). The maximum recommended task size is 1000 KiB.\n",
      "22/12/05 21:45:02 WARN TaskSetManager: Stage 22330 contains a task of very large size (6477 KiB). The maximum recommended task size is 1000 KiB.\n",
      "22/12/05 21:45:02 WARN TaskSetManager: Stage 22331 contains a task of very large size (6477 KiB). The maximum recommended task size is 1000 KiB.\n",
      "22/12/05 21:46:20 WARN TaskSetManager: Stage 22824 contains a task of very large size (6477 KiB). The maximum recommended task size is 1000 KiB.\n",
      "22/12/05 21:46:21 WARN TaskSetManager: Stage 22856 contains a task of very large size (6477 KiB). The maximum recommended task size is 1000 KiB.\n",
      "22/12/05 21:46:21 WARN TaskSetManager: Stage 22857 contains a task of very large size (6477 KiB). The maximum recommended task size is 1000 KiB.\n",
      "22/12/05 21:47:24 WARN TaskSetManager: Stage 23350 contains a task of very large size (6477 KiB). The maximum recommended task size is 1000 KiB.\n",
      "22/12/05 21:47:25 WARN TaskSetManager: Stage 23382 contains a task of very large size (6477 KiB). The maximum recommended task size is 1000 KiB.\n",
      "22/12/05 21:47:25 WARN TaskSetManager: Stage 23383 contains a task of very large size (6477 KiB). The maximum recommended task size is 1000 KiB.\n",
      "22/12/05 21:48:24 WARN TaskSetManager: Stage 23876 contains a task of very large size (6477 KiB). The maximum recommended task size is 1000 KiB.\n",
      "22/12/05 21:48:25 WARN TaskSetManager: Stage 23929 contains a task of very large size (6477 KiB). The maximum recommended task size is 1000 KiB.\n",
      "22/12/05 21:48:25 WARN TaskSetManager: Stage 23930 contains a task of very large size (6477 KiB). The maximum recommended task size is 1000 KiB.\n",
      "                                                                                \r"
     ]
    }
   ],
   "source": [
    "from pyspark.ml.tuning import ParamGridBuilder, TrainValidationSplit\n",
    "\n",
    "als = ALS(userCol=\"user_id\", itemCol=\"beer_beerid\", ratingCol=\"review_overall\",\n",
    "          coldStartStrategy=\"drop\")\n",
    "\n",
    "\n",
    "paramGrid = ParamGridBuilder()\\\n",
    "     .addGrid(als.regParam, [0.1, 0.01, 0.2, 0.5])\\\n",
    "    .addGrid(als.maxIter, [100])\\\n",
    "    .addGrid(als.alpha, [0.05])\\\n",
    "    .addGrid(als.rank, [10])\\\n",
    "    .addGrid(als.nonnegative, [True])\\\n",
    "     .build()\n",
    "\n",
    "    \n",
    "    \n",
    "\n",
    "tvs = TrainValidationSplit(estimator=als,\n",
    "                           estimatorParamMaps=paramGrid,\n",
    "                           evaluator=RegressionEvaluator(metricName=\"rmse\", labelCol=\"review_overall\",\n",
    "                                predictionCol=\"prediction\"),\n",
    "                           trainRatio=0.8)\n",
    "\n",
    "grid = tvs.fit(df_als)"
   ]
  },
  {
   "cell_type": "code",
   "execution_count": 94,
   "id": "6dff0186",
   "metadata": {},
   "outputs": [],
   "source": [
    "bestModel = grid.bestModel"
   ]
  },
  {
   "cell_type": "code",
   "execution_count": 102,
   "id": "6d796860",
   "metadata": {},
   "outputs": [
    {
     "data": {
      "text/plain": [
       "0.1"
      ]
     },
     "execution_count": 102,
     "metadata": {},
     "output_type": "execute_result"
    }
   ],
   "source": [
    "bestModel._java_obj.parent().getRegParam()"
   ]
  },
  {
   "cell_type": "code",
   "execution_count": 103,
   "id": "251a9ac2",
   "metadata": {},
   "outputs": [],
   "source": [
    "als = ALS(maxIter=500, alpha=0.05, rank = 10, nonnegative=True, regParam=0.1, userCol=\"user_id\", itemCol=\"beer_beerid\", ratingCol=\"review_overall\",\n",
    "          coldStartStrategy=\"drop\")"
   ]
  },
  {
   "cell_type": "code",
   "execution_count": 106,
   "id": "19096947",
   "metadata": {},
   "outputs": [
    {
     "name": "stderr",
     "output_type": "stream",
     "text": [
      "22/12/05 22:10:18 WARN TaskSetManager: Stage 26869 contains a task of very large size (6477 KiB). The maximum recommended task size is 1000 KiB.\n",
      "22/12/05 22:10:19 WARN TaskSetManager: Stage 26870 contains a task of very large size (6477 KiB). The maximum recommended task size is 1000 KiB.\n",
      "                                                                                \r"
     ]
    },
    {
     "name": "stdout",
     "output_type": "stream",
     "text": [
      "1670278218.0641208\n"
     ]
    }
   ],
   "source": [
    "start = time.time()\n",
    "model = als.fit(training)\n",
    "end = time.time()-start\n",
    "print(start)"
   ]
  },
  {
   "cell_type": "code",
   "execution_count": 134,
   "id": "d8287010",
   "metadata": {
    "scrolled": true
   },
   "outputs": [
    {
     "name": "stderr",
     "output_type": "stream",
     "text": [
      "22/12/05 22:46:11 WARN TaskSetManager: Stage 29585 contains a task of very large size (6477 KiB). The maximum recommended task size is 1000 KiB.\n",
      "                                                                                \r"
     ]
    },
    {
     "name": "stdout",
     "output_type": "stream",
     "text": [
      "Root-mean-square error = 0.6134694680126662\n"
     ]
    },
    {
     "name": "stderr",
     "output_type": "stream",
     "text": [
      "\r",
      "[Stage 29637:====================================>                  (2 + 1) / 3]\r",
      "\r",
      "                                                                                \r"
     ]
    }
   ],
   "source": [
    "predictions = model.transform(test)\n",
    "evaluator = RegressionEvaluator(metricName=\"rmse\", labelCol=\"review_overall\",\n",
    "                                predictionCol=\"prediction\")\n",
    "rmse = evaluator.evaluate(predictions)\n",
    "print(\"Root-mean-square error = \" + str(rmse))"
   ]
  },
  {
   "cell_type": "code",
   "execution_count": 115,
   "id": "206641a7",
   "metadata": {},
   "outputs": [],
   "source": [
    "df_users_als = spark.createDataFrame(user_and_review_count)"
   ]
  },
  {
   "cell_type": "code",
   "execution_count": 118,
   "id": "f94070aa",
   "metadata": {},
   "outputs": [
    {
     "data": {
      "text/plain": [
       "[Row(user_id=2028, count=451),\n",
       " Row(user_id=865, count=451),\n",
       " Row(user_id=1281, count=451),\n",
       " Row(user_id=2310, count=452),\n",
       " Row(user_id=1369, count=452),\n",
       " Row(user_id=6048, count=452),\n",
       " Row(user_id=3693, count=452),\n",
       " Row(user_id=594, count=453),\n",
       " Row(user_id=1122, count=453),\n",
       " Row(user_id=2579, count=454),\n",
       " Row(user_id=2183, count=454),\n",
       " Row(user_id=1895, count=454),\n",
       " Row(user_id=5861, count=456),\n",
       " Row(user_id=3946, count=456),\n",
       " Row(user_id=236, count=457),\n",
       " Row(user_id=17089, count=3),\n",
       " Row(user_id=29201, count=3),\n",
       " Row(user_id=29539, count=3),\n",
       " Row(user_id=22160, count=3),\n",
       " Row(user_id=22221, count=3),\n",
       " Row(user_id=10192, count=3),\n",
       " Row(user_id=21429, count=3),\n",
       " Row(user_id=6544, count=3),\n",
       " Row(user_id=12570, count=3),\n",
       " Row(user_id=29853, count=3),\n",
       " Row(user_id=21435, count=3),\n",
       " Row(user_id=6657, count=3),\n",
       " Row(user_id=21438, count=3),\n",
       " Row(user_id=26310, count=3),\n",
       " Row(user_id=9570, count=3),\n",
       " Row(user_id=9164, count=46),\n",
       " Row(user_id=3401, count=46),\n",
       " Row(user_id=11168, count=46),\n",
       " Row(user_id=6240, count=46),\n",
       " Row(user_id=11022, count=46),\n",
       " Row(user_id=10347, count=46),\n",
       " Row(user_id=5478, count=46),\n",
       " Row(user_id=1964, count=46),\n",
       " Row(user_id=5803, count=46),\n",
       " Row(user_id=9788, count=46),\n",
       " Row(user_id=6416, count=46),\n",
       " Row(user_id=7788, count=46),\n",
       " Row(user_id=6785, count=46),\n",
       " Row(user_id=9142, count=46),\n",
       " Row(user_id=5263, count=46),\n",
       " Row(user_id=0, count=15)]"
      ]
     },
     "execution_count": 118,
     "metadata": {},
     "output_type": "execute_result"
    }
   ],
   "source": [
    "df_users_als.take(46)"
   ]
  },
  {
   "cell_type": "code",
   "execution_count": 123,
   "id": "d83aaabf",
   "metadata": {},
   "outputs": [
    {
     "name": "stderr",
     "output_type": "stream",
     "text": [
      "/home/ubuntu/anaconda3/lib/python3.9/site-packages/pyspark/sql/context.py:125: FutureWarning: Deprecated in 3.0.0. Use SparkSession.builder.getOrCreate() instead.\n",
      "  warnings.warn(\n",
      "                                                                                \r"
     ]
    },
    {
     "data": {
      "text/plain": [
       "[Row(user_id=5803, recommendations=[Row(beer_beerid=24961, rating=5.167754173278809), Row(beer_beerid=32744, rating=5.121060848236084), Row(beer_beerid=24864, rating=5.011592388153076), Row(beer_beerid=49042, rating=4.991320610046387), Row(beer_beerid=47661, rating=4.991320610046387), Row(beer_beerid=42941, rating=4.991320610046387), Row(beer_beerid=45400, rating=4.958629131317139), Row(beer_beerid=45680, rating=4.947658538818359), Row(beer_beerid=53731, rating=4.9263153076171875), Row(beer_beerid=76115, rating=4.9263153076171875), Row(beer_beerid=57582, rating=4.90084981918335), Row(beer_beerid=63276, rating=4.895236492156982), Row(beer_beerid=65490, rating=4.895236492156982), Row(beer_beerid=61497, rating=4.892115116119385), Row(beer_beerid=66279, rating=4.891589164733887), Row(beer_beerid=76354, rating=4.884174346923828), Row(beer_beerid=49954, rating=4.880579471588135), Row(beer_beerid=8440, rating=4.867240905761719), Row(beer_beerid=63061, rating=4.8638129234313965), Row(beer_beerid=54487, rating=4.862600803375244), Row(beer_beerid=57390, rating=4.862600803375244), Row(beer_beerid=43141, rating=4.858038425445557), Row(beer_beerid=51196, rating=4.84552001953125), Row(beer_beerid=47189, rating=4.843953609466553), Row(beer_beerid=19244, rating=4.841352462768555), Row(beer_beerid=58338, rating=4.840838432312012), Row(beer_beerid=59330, rating=4.840271949768066), Row(beer_beerid=24806, rating=4.836287021636963), Row(beer_beerid=39845, rating=4.836287021636963), Row(beer_beerid=1131, rating=4.833347797393799), Row(beer_beerid=1098, rating=4.833347797393799), Row(beer_beerid=1272, rating=4.833347797393799), Row(beer_beerid=43063, rating=4.829261779785156), Row(beer_beerid=69480, rating=4.8246073722839355), Row(beer_beerid=8192, rating=4.823898792266846), Row(beer_beerid=41695, rating=4.822453498840332), Row(beer_beerid=40861, rating=4.820272922515869), Row(beer_beerid=66421, rating=4.814026355743408), Row(beer_beerid=68614, rating=4.812860488891602), Row(beer_beerid=39615, rating=4.811362266540527), Row(beer_beerid=8990, rating=4.811362266540527), Row(beer_beerid=61475, rating=4.810682773590088), Row(beer_beerid=14715, rating=4.809757232666016), Row(beer_beerid=57888, rating=4.809240341186523), Row(beer_beerid=48234, rating=4.809139251708984), Row(beer_beerid=63179, rating=4.806677341461182), Row(beer_beerid=40899, rating=4.803210735321045), Row(beer_beerid=13960, rating=4.802893161773682), Row(beer_beerid=49736, rating=4.795502185821533), Row(beer_beerid=66842, rating=4.794670581817627), Row(beer_beerid=55368, rating=4.793310165405273), Row(beer_beerid=39862, rating=4.791815280914307), Row(beer_beerid=55613, rating=4.791815280914307), Row(beer_beerid=39922, rating=4.789514064788818), Row(beer_beerid=72899, rating=4.789310932159424), Row(beer_beerid=58376, rating=4.787309169769287), Row(beer_beerid=61776, rating=4.786911487579346), Row(beer_beerid=54011, rating=4.786864757537842), Row(beer_beerid=44254, rating=4.786601543426514), Row(beer_beerid=40917, rating=4.786601543426514), Row(beer_beerid=35361, rating=4.7834577560424805), Row(beer_beerid=37070, rating=4.78269624710083), Row(beer_beerid=45184, rating=4.781949043273926), Row(beer_beerid=53188, rating=4.78164005279541), Row(beer_beerid=493, rating=4.780587673187256), Row(beer_beerid=43890, rating=4.78026819229126), Row(beer_beerid=34470, rating=4.779209136962891), Row(beer_beerid=43874, rating=4.776228427886963), Row(beer_beerid=29112, rating=4.775188446044922), Row(beer_beerid=68665, rating=4.772156238555908), Row(beer_beerid=63692, rating=4.77169942855835), Row(beer_beerid=20480, rating=4.769999027252197), Row(beer_beerid=21377, rating=4.76973819732666), Row(beer_beerid=13740, rating=4.76973819732666), Row(beer_beerid=20784, rating=4.76973819732666), Row(beer_beerid=56839, rating=4.769269943237305), Row(beer_beerid=38891, rating=4.766028881072998), Row(beer_beerid=45620, rating=4.765872001647949), Row(beer_beerid=48794, rating=4.765493869781494), Row(beer_beerid=57142, rating=4.762948513031006), Row(beer_beerid=57943, rating=4.762948513031006), Row(beer_beerid=32462, rating=4.759618759155273), Row(beer_beerid=65029, rating=4.759530544281006), Row(beer_beerid=59646, rating=4.758735179901123), Row(beer_beerid=59787, rating=4.75821590423584), Row(beer_beerid=76563, rating=4.757081985473633), Row(beer_beerid=62812, rating=4.757053852081299), Row(beer_beerid=50797, rating=4.757053852081299), Row(beer_beerid=57041, rating=4.756653785705566), Row(beer_beerid=69665, rating=4.756653785705566), Row(beer_beerid=69794, rating=4.756653785705566), Row(beer_beerid=51387, rating=4.755545139312744), Row(beer_beerid=64445, rating=4.754697322845459), Row(beer_beerid=30382, rating=4.754400730133057), Row(beer_beerid=67105, rating=4.754359245300293), Row(beer_beerid=51494, rating=4.753379821777344), Row(beer_beerid=63746, rating=4.751560211181641), Row(beer_beerid=73376, rating=4.749635219573975), Row(beer_beerid=59147, rating=4.7481842041015625), Row(beer_beerid=25211, rating=4.74702262878418), Row(beer_beerid=44408, rating=4.744743347167969), Row(beer_beerid=12455, rating=4.740509033203125), Row(beer_beerid=27768, rating=4.737734794616699), Row(beer_beerid=42050, rating=4.73693323135376), Row(beer_beerid=60204, rating=4.735926628112793), Row(beer_beerid=28230, rating=4.732419967651367), Row(beer_beerid=49062, rating=4.730406284332275), Row(beer_beerid=41194, rating=4.730406284332275), Row(beer_beerid=51058, rating=4.730406284332275), Row(beer_beerid=37184, rating=4.730087757110596), Row(beer_beerid=34848, rating=4.728974342346191), Row(beer_beerid=49665, rating=4.728855133056641), Row(beer_beerid=65915, rating=4.728440284729004), Row(beer_beerid=33623, rating=4.724749565124512), Row(beer_beerid=74083, rating=4.719679355621338), Row(beer_beerid=13222, rating=4.717892646789551), Row(beer_beerid=1734, rating=4.717892646789551), Row(beer_beerid=36467, rating=4.717639923095703), Row(beer_beerid=8553, rating=4.716220855712891), Row(beer_beerid=56820, rating=4.715767860412598), Row(beer_beerid=53817, rating=4.715707778930664), Row(beer_beerid=52714, rating=4.713723182678223), Row(beer_beerid=73727, rating=4.713723182678223), Row(beer_beerid=28483, rating=4.713723182678223), Row(beer_beerid=61383, rating=4.713723182678223), Row(beer_beerid=60069, rating=4.713723182678223), Row(beer_beerid=50844, rating=4.713723182678223), Row(beer_beerid=64487, rating=4.713723182678223), Row(beer_beerid=39026, rating=4.713306427001953), Row(beer_beerid=25702, rating=4.712495803833008), Row(beer_beerid=31338, rating=4.711012840270996), Row(beer_beerid=44113, rating=4.710570335388184), Row(beer_beerid=67111, rating=4.707757949829102), Row(beer_beerid=8773, rating=4.707093238830566), Row(beer_beerid=55072, rating=4.706369876861572), Row(beer_beerid=55569, rating=4.706369876861572), Row(beer_beerid=64606, rating=4.706369876861572), Row(beer_beerid=36166, rating=4.705909252166748), Row(beer_beerid=66533, rating=4.697098255157471), Row(beer_beerid=69732, rating=4.693367958068848), Row(beer_beerid=50629, rating=4.691159725189209), Row(beer_beerid=56266, rating=4.689969539642334), Row(beer_beerid=33066, rating=4.688586235046387), Row(beer_beerid=56169, rating=4.688008785247803), Row(beer_beerid=52793, rating=4.686278820037842), Row(beer_beerid=72131, rating=4.685147762298584), Row(beer_beerid=77294, rating=4.6851396560668945), Row(beer_beerid=33249, rating=4.684602737426758), Row(beer_beerid=20584, rating=4.684054851531982), Row(beer_beerid=51454, rating=4.682595729827881), Row(beer_beerid=70054, rating=4.680992603302002), Row(beer_beerid=64590, rating=4.680725574493408), Row(beer_beerid=73285, rating=4.680438995361328), Row(beer_beerid=20513, rating=4.68031120300293), Row(beer_beerid=52558, rating=4.679663181304932), Row(beer_beerid=52362, rating=4.679663181304932), Row(beer_beerid=60702, rating=4.67851448059082), Row(beer_beerid=64671, rating=4.676747798919678), Row(beer_beerid=57431, rating=4.676665306091309), Row(beer_beerid=55042, rating=4.676665306091309), Row(beer_beerid=71531, rating=4.676665306091309), Row(beer_beerid=51535, rating=4.676665306091309), Row(beer_beerid=50904, rating=4.676665306091309), Row(beer_beerid=59971, rating=4.675364017486572), Row(beer_beerid=52646, rating=4.675364017486572), Row(beer_beerid=37979, rating=4.675056457519531), Row(beer_beerid=26577, rating=4.674201011657715), Row(beer_beerid=60667, rating=4.674201011657715), Row(beer_beerid=60939, rating=4.674201011657715), Row(beer_beerid=57600, rating=4.673396110534668), Row(beer_beerid=65686, rating=4.672832012176514), Row(beer_beerid=59650, rating=4.672192096710205), Row(beer_beerid=56955, rating=4.671837329864502), Row(beer_beerid=59958, rating=4.671618461608887), Row(beer_beerid=60795, rating=4.671618461608887), Row(beer_beerid=54147, rating=4.671298503875732), Row(beer_beerid=45674, rating=4.670462131500244), Row(beer_beerid=48501, rating=4.670462131500244), Row(beer_beerid=519, rating=4.670261859893799), Row(beer_beerid=56573, rating=4.670261859893799), Row(beer_beerid=1801, rating=4.670261859893799), Row(beer_beerid=473, rating=4.670261859893799), Row(beer_beerid=2955, rating=4.670261859893799), Row(beer_beerid=44081, rating=4.670184135437012), Row(beer_beerid=51636, rating=4.670184135437012), Row(beer_beerid=52107, rating=4.668449878692627), Row(beer_beerid=15321, rating=4.6682329177856445), Row(beer_beerid=41494, rating=4.666553020477295), Row(beer_beerid=13440, rating=4.666225433349609), Row(beer_beerid=4971, rating=4.666225433349609), Row(beer_beerid=8896, rating=4.666225433349609), Row(beer_beerid=66212, rating=4.665094375610352), Row(beer_beerid=20521, rating=4.664977550506592), Row(beer_beerid=8626, rating=4.664495468139648), Row(beer_beerid=44236, rating=4.662815093994141), Row(beer_beerid=60120, rating=4.66213846206665), Row(beer_beerid=62335, rating=4.66213846206665), Row(beer_beerid=43471, rating=4.660538196563721), Row(beer_beerid=41299, rating=4.660538196563721), Row(beer_beerid=39481, rating=4.660538196563721)]),\n",
       " Row(user_id=29853, recommendations=[Row(beer_beerid=8553, rating=4.585690975189209), Row(beer_beerid=32744, rating=4.569118499755859), Row(beer_beerid=76354, rating=4.510060787200928), Row(beer_beerid=24864, rating=4.507508277893066), Row(beer_beerid=35361, rating=4.506669998168945), Row(beer_beerid=27768, rating=4.490434646606445), Row(beer_beerid=61475, rating=4.483657360076904), Row(beer_beerid=66212, rating=4.476655006408691), Row(beer_beerid=42941, rating=4.439760208129883), Row(beer_beerid=49042, rating=4.439760208129883), Row(beer_beerid=47661, rating=4.439760208129883), Row(beer_beerid=52165, rating=4.430944442749023), Row(beer_beerid=19073, rating=4.42710018157959), Row(beer_beerid=73871, rating=4.425790309906006), Row(beer_beerid=24961, rating=4.4204230308532715), Row(beer_beerid=11895, rating=4.419365882873535), Row(beer_beerid=45990, rating=4.41873025894165), Row(beer_beerid=15502, rating=4.418117523193359), Row(beer_beerid=12413, rating=4.418117523193359), Row(beer_beerid=8130, rating=4.418117523193359), Row(beer_beerid=20784, rating=4.413034915924072), Row(beer_beerid=21377, rating=4.413034915924072), Row(beer_beerid=13740, rating=4.413034915924072), Row(beer_beerid=57582, rating=4.402862071990967), Row(beer_beerid=28483, rating=4.397046089172363), Row(beer_beerid=73727, rating=4.397046089172363), Row(beer_beerid=61383, rating=4.397046089172363), Row(beer_beerid=50844, rating=4.397046089172363), Row(beer_beerid=52714, rating=4.397046089172363), Row(beer_beerid=64487, rating=4.397046089172363), Row(beer_beerid=60069, rating=4.397046089172363), Row(beer_beerid=54487, rating=4.385080814361572), Row(beer_beerid=57390, rating=4.385080814361572), Row(beer_beerid=11532, rating=4.383390426635742), Row(beer_beerid=72899, rating=4.365386962890625), Row(beer_beerid=39615, rating=4.361005783081055), Row(beer_beerid=8990, rating=4.361005783081055), Row(beer_beerid=77087, rating=4.353196620941162), Row(beer_beerid=68614, rating=4.343645095825195), Row(beer_beerid=59330, rating=4.34214448928833), Row(beer_beerid=69344, rating=4.33917760848999), Row(beer_beerid=69480, rating=4.339093208312988), Row(beer_beerid=43141, rating=4.337706565856934), Row(beer_beerid=51494, rating=4.336544513702393), Row(beer_beerid=34848, rating=4.336300373077393), Row(beer_beerid=51196, rating=4.336181163787842), Row(beer_beerid=75221, rating=4.328050136566162), Row(beer_beerid=41695, rating=4.326862335205078), Row(beer_beerid=34470, rating=4.325527191162109), Row(beer_beerid=45680, rating=4.324145317077637), Row(beer_beerid=55368, rating=4.319266319274902), Row(beer_beerid=8440, rating=4.312586307525635), Row(beer_beerid=43890, rating=4.311668872833252), Row(beer_beerid=19402, rating=4.310323238372803), Row(beer_beerid=11228, rating=4.310323238372803), Row(beer_beerid=22423, rating=4.310323238372803), Row(beer_beerid=7399, rating=4.310080528259277), Row(beer_beerid=31338, rating=4.3086090087890625), Row(beer_beerid=16686, rating=4.306663990020752), Row(beer_beerid=45184, rating=4.3060383796691895), Row(beer_beerid=39845, rating=4.305977821350098), Row(beer_beerid=24806, rating=4.305977821350098), Row(beer_beerid=14715, rating=4.304293632507324), Row(beer_beerid=1131, rating=4.299625873565674), Row(beer_beerid=1098, rating=4.299625873565674), Row(beer_beerid=1272, rating=4.299625873565674), Row(beer_beerid=6790, rating=4.29837703704834), Row(beer_beerid=33623, rating=4.297602653503418), Row(beer_beerid=20087, rating=4.294126033782959), Row(beer_beerid=39026, rating=4.2925591468811035), Row(beer_beerid=76115, rating=4.289352893829346), Row(beer_beerid=53731, rating=4.289352893829346), Row(beer_beerid=70054, rating=4.288351535797119), Row(beer_beerid=66421, rating=4.287245273590088), Row(beer_beerid=68430, rating=4.287201881408691), Row(beer_beerid=29771, rating=4.283008098602295), Row(beer_beerid=8933, rating=4.283008098602295), Row(beer_beerid=51387, rating=4.277254104614258), Row(beer_beerid=45400, rating=4.275677680969238), Row(beer_beerid=54011, rating=4.273783206939697), Row(beer_beerid=1734, rating=4.273498058319092), Row(beer_beerid=13222, rating=4.273498058319092), Row(beer_beerid=59147, rating=4.272505283355713), Row(beer_beerid=12455, rating=4.271728038787842), Row(beer_beerid=71856, rating=4.271360397338867), Row(beer_beerid=26764, rating=4.266387939453125), Row(beer_beerid=8131, rating=4.264053821563721), Row(beer_beerid=8192, rating=4.263044357299805), Row(beer_beerid=33592, rating=4.261165142059326), Row(beer_beerid=30382, rating=4.259823322296143), Row(beer_beerid=45620, rating=4.2588300704956055), Row(beer_beerid=29112, rating=4.258493423461914), Row(beer_beerid=38360, rating=4.255465030670166), Row(beer_beerid=53349, rating=4.254208087921143), Row(beer_beerid=60795, rating=4.253107070922852), Row(beer_beerid=59958, rating=4.253107070922852), Row(beer_beerid=32382, rating=4.251767158508301), Row(beer_beerid=1020, rating=4.249861240386963), Row(beer_beerid=57543, rating=4.249514102935791), Row(beer_beerid=39560, rating=4.248151779174805), Row(beer_beerid=58376, rating=4.246899604797363), Row(beer_beerid=43874, rating=4.246519565582275), Row(beer_beerid=21357, rating=4.2464599609375), Row(beer_beerid=67177, rating=4.245483875274658), Row(beer_beerid=72009, rating=4.245028495788574), Row(beer_beerid=57913, rating=4.239519119262695), Row(beer_beerid=21025, rating=4.239157676696777), Row(beer_beerid=19244, rating=4.233712196350098), Row(beer_beerid=26941, rating=4.230167865753174), Row(beer_beerid=55072, rating=4.228787422180176), Row(beer_beerid=55569, rating=4.228787422180176), Row(beer_beerid=64606, rating=4.228787422180176), Row(beer_beerid=56820, rating=4.227005481719971), Row(beer_beerid=27352, rating=4.2262983322143555), Row(beer_beerid=66533, rating=4.225895404815674), Row(beer_beerid=47189, rating=4.21931791305542), Row(beer_beerid=61776, rating=4.218979835510254), Row(beer_beerid=17313, rating=4.2185893058776855), Row(beer_beerid=40861, rating=4.218563079833984), Row(beer_beerid=40899, rating=4.218440532684326), Row(beer_beerid=51454, rating=4.214929103851318), Row(beer_beerid=36166, rating=4.21350622177124), Row(beer_beerid=17488, rating=4.213302135467529), Row(beer_beerid=20811, rating=4.213302135467529), Row(beer_beerid=19792, rating=4.213302135467529), Row(beer_beerid=21203, rating=4.213302135467529), Row(beer_beerid=20840, rating=4.213302135467529), Row(beer_beerid=36039, rating=4.213302135467529), Row(beer_beerid=47365, rating=4.212541580200195), Row(beer_beerid=47616, rating=4.212541580200195), Row(beer_beerid=56211, rating=4.212541580200195), Row(beer_beerid=26463, rating=4.212350845336914), Row(beer_beerid=12746, rating=4.21217155456543), Row(beer_beerid=13783, rating=4.21217155456543), Row(beer_beerid=16756, rating=4.21217155456543), Row(beer_beerid=8627, rating=4.21217155456543), Row(beer_beerid=48000, rating=4.211448669433594), Row(beer_beerid=45944, rating=4.210878372192383), Row(beer_beerid=58987, rating=4.210878372192383), Row(beer_beerid=72962, rating=4.2106709480285645), Row(beer_beerid=39922, rating=4.21051025390625), Row(beer_beerid=56046, rating=4.210346221923828), Row(beer_beerid=65769, rating=4.209456920623779), Row(beer_beerid=65185, rating=4.209336280822754), Row(beer_beerid=65143, rating=4.208919048309326), Row(beer_beerid=73376, rating=4.207920551300049), Row(beer_beerid=70132, rating=4.204986095428467), Row(beer_beerid=26558, rating=4.20387077331543), Row(beer_beerid=49954, rating=4.20064115524292), Row(beer_beerid=45464, rating=4.200294494628906), Row(beer_beerid=57361, rating=4.199980735778809), Row(beer_beerid=63746, rating=4.199930667877197), Row(beer_beerid=72131, rating=4.198672294616699), Row(beer_beerid=56169, rating=4.197872638702393), Row(beer_beerid=66279, rating=4.197205066680908), Row(beer_beerid=60702, rating=4.197004318237305), Row(beer_beerid=67847, rating=4.196074485778809), Row(beer_beerid=64484, rating=4.195385932922363), Row(beer_beerid=77173, rating=4.195317268371582), Row(beer_beerid=57888, rating=4.195011138916016), Row(beer_beerid=77294, rating=4.193985462188721), Row(beer_beerid=47783, rating=4.193891525268555), Row(beer_beerid=76563, rating=4.1936845779418945), Row(beer_beerid=55337, rating=4.192707061767578), Row(beer_beerid=60116, rating=4.192707061767578), Row(beer_beerid=42994, rating=4.190848350524902), Row(beer_beerid=73762, rating=4.1896281242370605), Row(beer_beerid=19995, rating=4.1893744468688965), Row(beer_beerid=55042, rating=4.188797950744629), Row(beer_beerid=57431, rating=4.188797950744629), Row(beer_beerid=51535, rating=4.188797950744629), Row(beer_beerid=71531, rating=4.188797950744629), Row(beer_beerid=50904, rating=4.188797950744629), Row(beer_beerid=41033, rating=4.18861722946167), Row(beer_beerid=55936, rating=4.18861722946167), Row(beer_beerid=67169, rating=4.18861722946167), Row(beer_beerid=63618, rating=4.18756103515625), Row(beer_beerid=65843, rating=4.186893463134766), Row(beer_beerid=64561, rating=4.185883522033691), Row(beer_beerid=60411, rating=4.185883522033691), Row(beer_beerid=67283, rating=4.185883522033691), Row(beer_beerid=2252, rating=4.184820175170898), Row(beer_beerid=23349, rating=4.183333396911621), Row(beer_beerid=43063, rating=4.183117866516113), Row(beer_beerid=55563, rating=4.182732105255127), Row(beer_beerid=50929, rating=4.182430744171143), Row(beer_beerid=20480, rating=4.18184757232666), Row(beer_beerid=14974, rating=4.181807041168213), Row(beer_beerid=26301, rating=4.18104887008667), Row(beer_beerid=66599, rating=4.17973518371582), Row(beer_beerid=41101, rating=4.179692268371582), Row(beer_beerid=9116, rating=4.178522109985352), Row(beer_beerid=55451, rating=4.176713943481445), Row(beer_beerid=14734, rating=4.17606258392334), Row(beer_beerid=62145, rating=4.175981044769287), Row(beer_beerid=75969, rating=4.175205230712891), Row(beer_beerid=65686, rating=4.175173759460449), Row(beer_beerid=25211, rating=4.174478054046631), Row(beer_beerid=66842, rating=4.173550605773926), Row(beer_beerid=70075, rating=4.169674396514893)]),\n",
       " Row(user_id=7788, recommendations=[Row(beer_beerid=54487, rating=5.1220383644104), Row(beer_beerid=57390, rating=5.1220383644104), Row(beer_beerid=38640, rating=5.076216697692871), Row(beer_beerid=24961, rating=5.047354221343994), Row(beer_beerid=52733, rating=5.046544075012207), Row(beer_beerid=69356, rating=5.008607387542725), Row(beer_beerid=62029, rating=4.929993152618408), Row(beer_beerid=3984, rating=4.929383277893066), Row(beer_beerid=20480, rating=4.9181623458862305), Row(beer_beerid=33113, rating=4.915162086486816), Row(beer_beerid=48234, rating=4.901182174682617), Row(beer_beerid=43063, rating=4.894943714141846), Row(beer_beerid=42941, rating=4.893632411956787), Row(beer_beerid=47661, rating=4.893632411956787), Row(beer_beerid=49042, rating=4.893632411956787), Row(beer_beerid=51715, rating=4.887182235717773), Row(beer_beerid=27631, rating=4.8814473152160645), Row(beer_beerid=48794, rating=4.877643585205078), Row(beer_beerid=54147, rating=4.877589225769043), Row(beer_beerid=56460, rating=4.875770092010498), Row(beer_beerid=53731, rating=4.8746113777160645), Row(beer_beerid=76115, rating=4.8746113777160645), Row(beer_beerid=52173, rating=4.872720718383789), Row(beer_beerid=48849, rating=4.869938373565674), Row(beer_beerid=65029, rating=4.86818790435791), Row(beer_beerid=42050, rating=4.862651348114014), Row(beer_beerid=45400, rating=4.859821796417236), Row(beer_beerid=44408, rating=4.859415054321289), Row(beer_beerid=32744, rating=4.858604431152344), Row(beer_beerid=65390, rating=4.858425617218018), Row(beer_beerid=74083, rating=4.857649326324463), Row(beer_beerid=50493, rating=4.855953693389893), Row(beer_beerid=58479, rating=4.852905750274658), Row(beer_beerid=58338, rating=4.849513530731201), Row(beer_beerid=66842, rating=4.844139099121094), Row(beer_beerid=13440, rating=4.841148853302002), Row(beer_beerid=4971, rating=4.841148853302002), Row(beer_beerid=8896, rating=4.841148853302002), Row(beer_beerid=9964, rating=4.835497856140137), Row(beer_beerid=54142, rating=4.834721088409424), Row(beer_beerid=2162, rating=4.83455228805542), Row(beer_beerid=14070, rating=4.8332624435424805), Row(beer_beerid=49802, rating=4.832436561584473), Row(beer_beerid=38891, rating=4.824584007263184), Row(beer_beerid=63692, rating=4.821341514587402), Row(beer_beerid=8773, rating=4.8212690353393555), Row(beer_beerid=52793, rating=4.819100856781006), Row(beer_beerid=59650, rating=4.816777229309082), Row(beer_beerid=25702, rating=4.813000202178955), Row(beer_beerid=59787, rating=4.811882019042969), Row(beer_beerid=8192, rating=4.81064510345459), Row(beer_beerid=50124, rating=4.807142734527588), Row(beer_beerid=50122, rating=4.807142734527588), Row(beer_beerid=4572, rating=4.801463603973389), Row(beer_beerid=37256, rating=4.796800136566162), Row(beer_beerid=23336, rating=4.796277046203613), Row(beer_beerid=46879, rating=4.792761325836182), Row(beer_beerid=25990, rating=4.789921283721924), Row(beer_beerid=13853, rating=4.788941860198975), Row(beer_beerid=13844, rating=4.787569522857666), Row(beer_beerid=23960, rating=4.787365913391113), Row(beer_beerid=40255, rating=4.782667636871338), Row(beer_beerid=39253, rating=4.780223369598389), Row(beer_beerid=39250, rating=4.780223369598389), Row(beer_beerid=22696, rating=4.776732921600342), Row(beer_beerid=519, rating=4.772984504699707), Row(beer_beerid=2955, rating=4.772984504699707), Row(beer_beerid=1801, rating=4.772984504699707), Row(beer_beerid=56573, rating=4.772984504699707), Row(beer_beerid=473, rating=4.772984504699707), Row(beer_beerid=30752, rating=4.769461154937744), Row(beer_beerid=66279, rating=4.769101142883301), Row(beer_beerid=21819, rating=4.765484809875488), Row(beer_beerid=36177, rating=4.7654643058776855), Row(beer_beerid=25156, rating=4.76473331451416), Row(beer_beerid=25919, rating=4.76473331451416), Row(beer_beerid=12181, rating=4.756942272186279), Row(beer_beerid=13960, rating=4.7559309005737305), Row(beer_beerid=52646, rating=4.755006790161133), Row(beer_beerid=59971, rating=4.755006790161133), Row(beer_beerid=61121, rating=4.752528190612793), Row(beer_beerid=5450, rating=4.75232458114624), Row(beer_beerid=1215, rating=4.75232458114624), Row(beer_beerid=57086, rating=4.751601696014404), Row(beer_beerid=59646, rating=4.7507476806640625), Row(beer_beerid=50050, rating=4.748476505279541), Row(beer_beerid=50496, rating=4.7454752922058105), Row(beer_beerid=10602, rating=4.744542121887207), Row(beer_beerid=61497, rating=4.744078636169434), Row(beer_beerid=43141, rating=4.738681316375732), Row(beer_beerid=8626, rating=4.738468647003174), Row(beer_beerid=49954, rating=4.73770809173584), Row(beer_beerid=44869, rating=4.736721515655518), Row(beer_beerid=37070, rating=4.736457824707031), Row(beer_beerid=38241, rating=4.736058235168457), Row(beer_beerid=32462, rating=4.735515117645264), Row(beer_beerid=52807, rating=4.729013919830322), Row(beer_beerid=9494, rating=4.727377414703369), Row(beer_beerid=22000, rating=4.72721004486084), Row(beer_beerid=37184, rating=4.72668981552124), Row(beer_beerid=26199, rating=4.725986003875732), Row(beer_beerid=59147, rating=4.719189643859863), Row(beer_beerid=35192, rating=4.71896505355835), Row(beer_beerid=63276, rating=4.716405391693115), Row(beer_beerid=65490, rating=4.716405391693115), Row(beer_beerid=57582, rating=4.716042518615723), Row(beer_beerid=63061, rating=4.712203502655029), Row(beer_beerid=14715, rating=4.711501121520996), Row(beer_beerid=57888, rating=4.708218097686768), Row(beer_beerid=41838, rating=4.708148002624512), Row(beer_beerid=40899, rating=4.705954074859619), Row(beer_beerid=8440, rating=4.705392837524414), Row(beer_beerid=2695, rating=4.703917026519775), Row(beer_beerid=21667, rating=4.702002048492432), Row(beer_beerid=71531, rating=4.69993257522583), Row(beer_beerid=55042, rating=4.69993257522583), Row(beer_beerid=50904, rating=4.69993257522583), Row(beer_beerid=51535, rating=4.69993257522583), Row(beer_beerid=57431, rating=4.69993257522583), Row(beer_beerid=27960, rating=4.69920015335083), Row(beer_beerid=73285, rating=4.692826747894287), Row(beer_beerid=52862, rating=4.692179203033447), Row(beer_beerid=44230, rating=4.692150592803955), Row(beer_beerid=57540, rating=4.692150592803955), Row(beer_beerid=71129, rating=4.692150592803955), Row(beer_beerid=44081, rating=4.691397666931152), Row(beer_beerid=51636, rating=4.691397666931152), Row(beer_beerid=8194, rating=4.690666675567627), Row(beer_beerid=55416, rating=4.690211772918701), Row(beer_beerid=55368, rating=4.687441825866699), Row(beer_beerid=13506, rating=4.687193870544434), Row(beer_beerid=67105, rating=4.685977935791016), Row(beer_beerid=68665, rating=4.68082332611084), Row(beer_beerid=44671, rating=4.679978847503662), Row(beer_beerid=39922, rating=4.676682472229004), Row(beer_beerid=45680, rating=4.676128387451172), Row(beer_beerid=48501, rating=4.674262046813965), Row(beer_beerid=45674, rating=4.674262046813965), Row(beer_beerid=50629, rating=4.673883438110352), Row(beer_beerid=42213, rating=4.672885894775391), Row(beer_beerid=610, rating=4.670531272888184), Row(beer_beerid=69221, rating=4.668156147003174), Row(beer_beerid=39945, rating=4.667479515075684), Row(beer_beerid=63179, rating=4.667273998260498), Row(beer_beerid=27306, rating=4.6671462059021), Row(beer_beerid=31886, rating=4.6671462059021), Row(beer_beerid=33858, rating=4.6671462059021), Row(beer_beerid=18781, rating=4.66660737991333), Row(beer_beerid=56839, rating=4.665896892547607), Row(beer_beerid=37979, rating=4.664229869842529), Row(beer_beerid=73271, rating=4.663580894470215), Row(beer_beerid=33017, rating=4.661139488220215), Row(beer_beerid=38235, rating=4.659943580627441), Row(beer_beerid=15289, rating=4.6593852043151855), Row(beer_beerid=66421, rating=4.658169746398926), Row(beer_beerid=12892, rating=4.653592586517334), Row(beer_beerid=47189, rating=4.651724815368652), Row(beer_beerid=6171, rating=4.650988578796387), Row(beer_beerid=58406, rating=4.650461673736572), Row(beer_beerid=64590, rating=4.642068386077881), Row(beer_beerid=20584, rating=4.639721393585205), Row(beer_beerid=17826, rating=4.638214588165283), Row(beer_beerid=44236, rating=4.636749267578125), Row(beer_beerid=54011, rating=4.6344146728515625), Row(beer_beerid=45226, rating=4.6342244148254395), Row(beer_beerid=24864, rating=4.633846759796143), Row(beer_beerid=11332, rating=4.6332926750183105), Row(beer_beerid=38826, rating=4.631885051727295), Row(beer_beerid=38191, rating=4.630879878997803), Row(beer_beerid=42994, rating=4.630421161651611), Row(beer_beerid=65915, rating=4.629952430725098), Row(beer_beerid=62955, rating=4.629800319671631), Row(beer_beerid=19197, rating=4.629402160644531), Row(beer_beerid=59584, rating=4.628745079040527), Row(beer_beerid=71973, rating=4.628220558166504), Row(beer_beerid=59330, rating=4.6274566650390625), Row(beer_beerid=44725, rating=4.626715183258057), Row(beer_beerid=61674, rating=4.626195907592773), Row(beer_beerid=69665, rating=4.625497817993164), Row(beer_beerid=69794, rating=4.625497817993164), Row(beer_beerid=57041, rating=4.625497817993164), Row(beer_beerid=24636, rating=4.620561122894287), Row(beer_beerid=49026, rating=4.620311737060547), Row(beer_beerid=57625, rating=4.619840145111084), Row(beer_beerid=31053, rating=4.619609832763672), Row(beer_beerid=72371, rating=4.618747711181641), Row(beer_beerid=9975, rating=4.617661952972412), Row(beer_beerid=64783, rating=4.615865230560303), Row(beer_beerid=47080, rating=4.614782333374023), Row(beer_beerid=32429, rating=4.613504886627197), Row(beer_beerid=64445, rating=4.613430500030518), Row(beer_beerid=53188, rating=4.612765789031982), Row(beer_beerid=49062, rating=4.612678050994873), Row(beer_beerid=51058, rating=4.612678050994873), Row(beer_beerid=41194, rating=4.612678050994873), Row(beer_beerid=18652, rating=4.612637996673584), Row(beer_beerid=51196, rating=4.612576961517334), Row(beer_beerid=72131, rating=4.610219955444336), Row(beer_beerid=52107, rating=4.610118389129639), Row(beer_beerid=49287, rating=4.60983419418335)]),\n",
       " Row(user_id=236, recommendations=[Row(beer_beerid=32744, rating=5.110413551330566), Row(beer_beerid=24961, rating=5.039579391479492), Row(beer_beerid=57582, rating=5.016602039337158), Row(beer_beerid=47661, rating=4.9720048904418945), Row(beer_beerid=49042, rating=4.9720048904418945), Row(beer_beerid=42941, rating=4.9720048904418945), Row(beer_beerid=76354, rating=4.944372653961182), Row(beer_beerid=24864, rating=4.943077564239502), Row(beer_beerid=35361, rating=4.942992687225342), Row(beer_beerid=45400, rating=4.935133934020996), Row(beer_beerid=1272, rating=4.927524089813232), Row(beer_beerid=1098, rating=4.927524089813232), Row(beer_beerid=1131, rating=4.927524089813232), Row(beer_beerid=45680, rating=4.9259209632873535), Row(beer_beerid=69480, rating=4.918659210205078), Row(beer_beerid=68614, rating=4.916751384735107), Row(beer_beerid=66279, rating=4.894296646118164), Row(beer_beerid=47189, rating=4.864790439605713), Row(beer_beerid=36166, rating=4.864029884338379), Row(beer_beerid=39845, rating=4.856802940368652), Row(beer_beerid=24806, rating=4.856802940368652), Row(beer_beerid=49954, rating=4.856669902801514), Row(beer_beerid=43874, rating=4.8505706787109375), Row(beer_beerid=68665, rating=4.847856521606445), Row(beer_beerid=20784, rating=4.847662448883057), Row(beer_beerid=13740, rating=4.847662448883057), Row(beer_beerid=21377, rating=4.847662448883057), Row(beer_beerid=41695, rating=4.839818000793457), Row(beer_beerid=31338, rating=4.83773136138916), Row(beer_beerid=45184, rating=4.837474346160889), Row(beer_beerid=53188, rating=4.8361639976501465), Row(beer_beerid=55368, rating=4.835906028747559), Row(beer_beerid=43141, rating=4.833213806152344), Row(beer_beerid=14715, rating=4.832329273223877), Row(beer_beerid=34848, rating=4.8318281173706055), Row(beer_beerid=34470, rating=4.824954032897949), Row(beer_beerid=51196, rating=4.824746131896973), Row(beer_beerid=49736, rating=4.821763515472412), Row(beer_beerid=51494, rating=4.820267677307129), Row(beer_beerid=40899, rating=4.8189921379089355), Row(beer_beerid=8440, rating=4.817004680633545), Row(beer_beerid=61497, rating=4.816420555114746), Row(beer_beerid=66421, rating=4.8159499168396), Row(beer_beerid=61475, rating=4.813326835632324), Row(beer_beerid=30382, rating=4.811218738555908), Row(beer_beerid=59330, rating=4.807278633117676), Row(beer_beerid=54011, rating=4.806315898895264), Row(beer_beerid=54487, rating=4.803831577301025), Row(beer_beerid=57390, rating=4.803831577301025), Row(beer_beerid=43890, rating=4.800179481506348), Row(beer_beerid=72899, rating=4.7956461906433105), Row(beer_beerid=27768, rating=4.795219898223877), Row(beer_beerid=40861, rating=4.793257713317871), Row(beer_beerid=13222, rating=4.791666030883789), Row(beer_beerid=1734, rating=4.791666030883789), Row(beer_beerid=12455, rating=4.791448593139648), Row(beer_beerid=59147, rating=4.78988790512085), Row(beer_beerid=69794, rating=4.788668632507324), Row(beer_beerid=69665, rating=4.788668632507324), Row(beer_beerid=57041, rating=4.788668632507324), Row(beer_beerid=8990, rating=4.788260459899902), Row(beer_beerid=39615, rating=4.788260459899902), Row(beer_beerid=28483, rating=4.787042617797852), Row(beer_beerid=60069, rating=4.787042617797852), Row(beer_beerid=52714, rating=4.787042617797852), Row(beer_beerid=64487, rating=4.787042617797852), Row(beer_beerid=50844, rating=4.787042617797852), Row(beer_beerid=73727, rating=4.787042617797852), Row(beer_beerid=61383, rating=4.787042617797852), Row(beer_beerid=20480, rating=4.785195350646973), Row(beer_beerid=63179, rating=4.781885623931885), Row(beer_beerid=57888, rating=4.781802654266357), Row(beer_beerid=45464, rating=4.780678749084473), Row(beer_beerid=76563, rating=4.777939319610596), Row(beer_beerid=70054, rating=4.77742862701416), Row(beer_beerid=63276, rating=4.774121284484863), Row(beer_beerid=65490, rating=4.774121284484863), Row(beer_beerid=45620, rating=4.770960330963135), Row(beer_beerid=55613, rating=4.769505500793457), Row(beer_beerid=39862, rating=4.769505500793457), Row(beer_beerid=11895, rating=4.769027233123779), Row(beer_beerid=65029, rating=4.768345832824707), Row(beer_beerid=58376, rating=4.767263412475586), Row(beer_beerid=25211, rating=4.767016410827637), Row(beer_beerid=44113, rating=4.76680850982666), Row(beer_beerid=57142, rating=4.766686916351318), Row(beer_beerid=57943, rating=4.766686916351318), Row(beer_beerid=13960, rating=4.765299320220947), Row(beer_beerid=60702, rating=4.763759613037109), Row(beer_beerid=28230, rating=4.76060676574707), Row(beer_beerid=76115, rating=4.7576141357421875), Row(beer_beerid=53731, rating=4.7576141357421875), Row(beer_beerid=54147, rating=4.756733417510986), Row(beer_beerid=19244, rating=4.751145362854004), Row(beer_beerid=59958, rating=4.748551368713379), Row(beer_beerid=60795, rating=4.748551368713379), Row(beer_beerid=66841, rating=4.748323440551758), Row(beer_beerid=67653, rating=4.74773645401001), Row(beer_beerid=20584, rating=4.745670795440674), Row(beer_beerid=8192, rating=4.745140075683594), Row(beer_beerid=14991, rating=4.742146015167236), Row(beer_beerid=16054, rating=4.742146015167236), Row(beer_beerid=16928, rating=4.742146015167236), Row(beer_beerid=67111, rating=4.7413225173950195), Row(beer_beerid=33623, rating=4.739038944244385), Row(beer_beerid=65686, rating=4.739013195037842), Row(beer_beerid=16697, rating=4.736353397369385), Row(beer_beerid=493, rating=4.734849452972412), Row(beer_beerid=51387, rating=4.73370361328125), Row(beer_beerid=21025, rating=4.730788707733154), Row(beer_beerid=61776, rating=4.730570316314697), Row(beer_beerid=25702, rating=4.730302810668945), Row(beer_beerid=49062, rating=4.7274370193481445), Row(beer_beerid=51058, rating=4.7274370193481445), Row(beer_beerid=41194, rating=4.7274370193481445), Row(beer_beerid=77087, rating=4.726711750030518), Row(beer_beerid=66842, rating=4.726278305053711), Row(beer_beerid=66533, rating=4.724806308746338), Row(beer_beerid=69344, rating=4.723964214324951), Row(beer_beerid=64744, rating=4.721155166625977), Row(beer_beerid=43063, rating=4.720634460449219), Row(beer_beerid=67105, rating=4.719972610473633), Row(beer_beerid=63061, rating=4.718270778656006), Row(beer_beerid=62709, rating=4.717525482177734), Row(beer_beerid=50840, rating=4.717525482177734), Row(beer_beerid=57600, rating=4.717006683349609), Row(beer_beerid=60116, rating=4.715343952178955), Row(beer_beerid=55337, rating=4.715343952178955), Row(beer_beerid=29112, rating=4.7125396728515625), Row(beer_beerid=40917, rating=4.712050914764404), Row(beer_beerid=44254, rating=4.712050914764404), Row(beer_beerid=68548, rating=4.711819648742676), Row(beer_beerid=72009, rating=4.705944061279297), Row(beer_beerid=39922, rating=4.7040534019470215), Row(beer_beerid=32462, rating=4.703378677368164), Row(beer_beerid=19191, rating=4.702611923217773), Row(beer_beerid=53817, rating=4.702487945556641), Row(beer_beerid=48794, rating=4.701355934143066), Row(beer_beerid=17210, rating=4.699523448944092), Row(beer_beerid=18688, rating=4.698554039001465), Row(beer_beerid=56839, rating=4.697685241699219), Row(beer_beerid=62955, rating=4.695445537567139), Row(beer_beerid=28603, rating=4.6946702003479), Row(beer_beerid=39026, rating=4.694148063659668), Row(beer_beerid=69221, rating=4.693365573883057), Row(beer_beerid=8626, rating=4.69023323059082), Row(beer_beerid=38891, rating=4.686046600341797), Row(beer_beerid=8584, rating=4.685219764709473), Row(beer_beerid=37070, rating=4.685080051422119), Row(beer_beerid=63746, rating=4.684844970703125), Row(beer_beerid=50537, rating=4.684620380401611), Row(beer_beerid=50454, rating=4.683447360992432), Row(beer_beerid=62145, rating=4.6811723709106445), Row(beer_beerid=44112, rating=4.6793365478515625), Row(beer_beerid=76583, rating=4.678753852844238), Row(beer_beerid=66025, rating=4.678753852844238), Row(beer_beerid=65469, rating=4.678753852844238), Row(beer_beerid=55072, rating=4.678574085235596), Row(beer_beerid=55569, rating=4.678574085235596), Row(beer_beerid=64606, rating=4.678574085235596), Row(beer_beerid=44408, rating=4.676158905029297), Row(beer_beerid=49665, rating=4.676158428192139), Row(beer_beerid=64484, rating=4.674662113189697), Row(beer_beerid=27352, rating=4.674411773681641), Row(beer_beerid=64671, rating=4.672972202301025), Row(beer_beerid=57361, rating=4.6728596687316895), Row(beer_beerid=62812, rating=4.67279052734375), Row(beer_beerid=50797, rating=4.67279052734375), Row(beer_beerid=53458, rating=4.6725754737854), Row(beer_beerid=68991, rating=4.671920299530029), Row(beer_beerid=44910, rating=4.670717716217041), Row(beer_beerid=60204, rating=4.670345783233643), Row(beer_beerid=63692, rating=4.67022705078125), Row(beer_beerid=62871, rating=4.666440010070801), Row(beer_beerid=38974, rating=4.666440010070801), Row(beer_beerid=75324, rating=4.665853500366211), Row(beer_beerid=33066, rating=4.664416790008545), Row(beer_beerid=56046, rating=4.663626194000244), Row(beer_beerid=72323, rating=4.661111831665039), Row(beer_beerid=63673, rating=4.6609930992126465), Row(beer_beerid=51454, rating=4.660362243652344), Row(beer_beerid=56266, rating=4.660349369049072), Row(beer_beerid=48234, rating=4.658926963806152), Row(beer_beerid=8553, rating=4.6581597328186035), Row(beer_beerid=36467, rating=4.6568450927734375), Row(beer_beerid=35787, rating=4.655043601989746), Row(beer_beerid=56169, rating=4.654386043548584), Row(beer_beerid=20513, rating=4.654052257537842), Row(beer_beerid=65843, rating=4.6526570320129395), Row(beer_beerid=63649, rating=4.652167320251465), Row(beer_beerid=69732, rating=4.65137243270874), Row(beer_beerid=52107, rating=4.651253700256348), Row(beer_beerid=59650, rating=4.650881290435791), Row(beer_beerid=60926, rating=4.649062156677246), Row(beer_beerid=16884, rating=4.648092269897461), Row(beer_beerid=59787, rating=4.647953987121582), Row(beer_beerid=65915, rating=4.647000789642334), Row(beer_beerid=50084, rating=4.645680904388428), Row(beer_beerid=26829, rating=4.644278049468994), Row(beer_beerid=23413, rating=4.643515586853027)]),\n",
       " Row(user_id=5478, recommendations=[Row(beer_beerid=32744, rating=6.039188861846924), Row(beer_beerid=24961, rating=5.965660572052002), Row(beer_beerid=49042, rating=5.947505474090576), Row(beer_beerid=47661, rating=5.947505474090576), Row(beer_beerid=42941, rating=5.947505474090576), Row(beer_beerid=57582, rating=5.889162540435791), Row(beer_beerid=76354, rating=5.8595499992370605), Row(beer_beerid=45680, rating=5.858586311340332), Row(beer_beerid=45400, rating=5.831482410430908), Row(beer_beerid=24864, rating=5.822440147399902), Row(beer_beerid=35361, rating=5.81416654586792), Row(beer_beerid=68614, rating=5.808884143829346), Row(beer_beerid=69480, rating=5.778881549835205), Row(beer_beerid=57390, rating=5.770206451416016), Row(beer_beerid=54487, rating=5.770206451416016), Row(beer_beerid=1131, rating=5.7627668380737305), Row(beer_beerid=1098, rating=5.7627668380737305), Row(beer_beerid=1272, rating=5.7627668380737305), Row(beer_beerid=21377, rating=5.761503219604492), Row(beer_beerid=13740, rating=5.761503219604492), Row(beer_beerid=20784, rating=5.761503219604492), Row(beer_beerid=66279, rating=5.761363506317139), Row(beer_beerid=61475, rating=5.75984525680542), Row(beer_beerid=47189, rating=5.739391803741455), Row(beer_beerid=39845, rating=5.736942291259766), Row(beer_beerid=24806, rating=5.736942291259766), Row(beer_beerid=51494, rating=5.730281352996826), Row(beer_beerid=43141, rating=5.729797840118408), Row(beer_beerid=51196, rating=5.726157188415527), Row(beer_beerid=41695, rating=5.712871551513672), Row(beer_beerid=59330, rating=5.712395191192627), Row(beer_beerid=45184, rating=5.7119269371032715), Row(beer_beerid=55368, rating=5.707223892211914), Row(beer_beerid=34848, rating=5.704684257507324), Row(beer_beerid=27768, rating=5.702485084533691), Row(beer_beerid=65490, rating=5.701129913330078), Row(beer_beerid=63276, rating=5.701129913330078), Row(beer_beerid=72899, rating=5.697152137756348), Row(beer_beerid=34470, rating=5.696561813354492), Row(beer_beerid=49954, rating=5.694294452667236), Row(beer_beerid=61497, rating=5.693685054779053), Row(beer_beerid=66421, rating=5.690020561218262), Row(beer_beerid=31338, rating=5.685558795928955), Row(beer_beerid=8440, rating=5.683317184448242), Row(beer_beerid=43874, rating=5.682826995849609), Row(beer_beerid=40861, rating=5.675897598266602), Row(beer_beerid=63179, rating=5.671768665313721), Row(beer_beerid=61776, rating=5.667743682861328), Row(beer_beerid=57888, rating=5.6658196449279785), Row(beer_beerid=54011, rating=5.662948131561279), Row(beer_beerid=12455, rating=5.662459373474121), Row(beer_beerid=66842, rating=5.658181667327881), Row(beer_beerid=13222, rating=5.658108711242676), Row(beer_beerid=1734, rating=5.658108711242676), Row(beer_beerid=43890, rating=5.657712459564209), Row(beer_beerid=19244, rating=5.656888008117676), Row(beer_beerid=14715, rating=5.647932052612305), Row(beer_beerid=59147, rating=5.646722316741943), Row(beer_beerid=70054, rating=5.643275260925293), Row(beer_beerid=30382, rating=5.6428632736206055), Row(beer_beerid=40917, rating=5.6420488357543945), Row(beer_beerid=44254, rating=5.6420488357543945), Row(beer_beerid=66212, rating=5.64157772064209), Row(beer_beerid=76563, rating=5.639155387878418), Row(beer_beerid=58376, rating=5.635228633880615), Row(beer_beerid=25211, rating=5.634509563446045), Row(beer_beerid=8990, rating=5.631533145904541), Row(beer_beerid=39615, rating=5.631533145904541), Row(beer_beerid=49736, rating=5.631380558013916), Row(beer_beerid=45464, rating=5.628655433654785), Row(beer_beerid=44113, rating=5.625677108764648), Row(beer_beerid=53731, rating=5.62559175491333), Row(beer_beerid=76115, rating=5.62559175491333), Row(beer_beerid=45620, rating=5.625331878662109), Row(beer_beerid=69665, rating=5.621781826019287), Row(beer_beerid=69794, rating=5.621781826019287), Row(beer_beerid=57041, rating=5.621781826019287), Row(beer_beerid=56839, rating=5.618806838989258), Row(beer_beerid=73727, rating=5.6151533126831055), Row(beer_beerid=60069, rating=5.6151533126831055), Row(beer_beerid=28483, rating=5.6151533126831055), Row(beer_beerid=64487, rating=5.6151533126831055), Row(beer_beerid=50844, rating=5.6151533126831055), Row(beer_beerid=52714, rating=5.6151533126831055), Row(beer_beerid=61383, rating=5.6151533126831055), Row(beer_beerid=39026, rating=5.614753246307373), Row(beer_beerid=33623, rating=5.609687328338623), Row(beer_beerid=53188, rating=5.609675884246826), Row(beer_beerid=57943, rating=5.605401039123535), Row(beer_beerid=57142, rating=5.605401039123535), Row(beer_beerid=51387, rating=5.605210304260254), Row(beer_beerid=13960, rating=5.604752063751221), Row(beer_beerid=40899, rating=5.603299617767334), Row(beer_beerid=67111, rating=5.601781368255615), Row(beer_beerid=68665, rating=5.598355770111084), Row(beer_beerid=66533, rating=5.5958099365234375), Row(beer_beerid=59958, rating=5.593756675720215), Row(beer_beerid=60795, rating=5.593756675720215), Row(beer_beerid=8192, rating=5.59368896484375), Row(beer_beerid=16697, rating=5.59255838394165), Row(beer_beerid=63061, rating=5.589388370513916), Row(beer_beerid=25702, rating=5.588504791259766), Row(beer_beerid=60702, rating=5.586024284362793), Row(beer_beerid=55613, rating=5.585259914398193), Row(beer_beerid=39862, rating=5.585259914398193), Row(beer_beerid=28230, rating=5.582988262176514), Row(beer_beerid=29112, rating=5.582924842834473), Row(beer_beerid=62812, rating=5.580837726593018), Row(beer_beerid=50797, rating=5.580837726593018), Row(beer_beerid=53817, rating=5.579921722412109), Row(beer_beerid=60204, rating=5.5799102783203125), Row(beer_beerid=65686, rating=5.579599380493164), Row(beer_beerid=20480, rating=5.5781331062316895), Row(beer_beerid=56955, rating=5.577235221862793), Row(beer_beerid=67653, rating=5.5748138427734375), Row(beer_beerid=39922, rating=5.571486473083496), Row(beer_beerid=51058, rating=5.571170806884766), Row(beer_beerid=49062, rating=5.571170806884766), Row(beer_beerid=41194, rating=5.571170806884766), Row(beer_beerid=16054, rating=5.56624174118042), Row(beer_beerid=14991, rating=5.56624174118042), Row(beer_beerid=16928, rating=5.56624174118042), Row(beer_beerid=64671, rating=5.566140174865723), Row(beer_beerid=48794, rating=5.563607215881348), Row(beer_beerid=55072, rating=5.563017845153809), Row(beer_beerid=55569, rating=5.563017845153809), Row(beer_beerid=64606, rating=5.563017845153809), Row(beer_beerid=51454, rating=5.5594916343688965), Row(beer_beerid=65029, rating=5.556497097015381), Row(beer_beerid=39481, rating=5.554880619049072), Row(beer_beerid=41299, rating=5.554880619049072), Row(beer_beerid=43471, rating=5.554880619049072), Row(beer_beerid=72009, rating=5.554351329803467), Row(beer_beerid=493, rating=5.553341865539551), Row(beer_beerid=69221, rating=5.551430702209473), Row(beer_beerid=43063, rating=5.5510663986206055), Row(beer_beerid=57600, rating=5.548760890960693), Row(beer_beerid=8553, rating=5.548717498779297), Row(beer_beerid=67105, rating=5.548227787017822), Row(beer_beerid=36166, rating=5.546971321105957), Row(beer_beerid=63746, rating=5.545053005218506), Row(beer_beerid=77294, rating=5.543945789337158), Row(beer_beerid=69344, rating=5.541120529174805), Row(beer_beerid=64484, rating=5.540241241455078), Row(beer_beerid=8584, rating=5.538358211517334), Row(beer_beerid=73871, rating=5.536519527435303), Row(beer_beerid=75324, rating=5.5363450050354), Row(beer_beerid=16686, rating=5.535126686096191), Row(beer_beerid=48234, rating=5.533647537231445), Row(beer_beerid=55337, rating=5.532629489898682), Row(beer_beerid=60116, rating=5.532629489898682), Row(beer_beerid=56169, rating=5.52918815612793), Row(beer_beerid=77087, rating=5.528430938720703), Row(beer_beerid=19191, rating=5.527028560638428), Row(beer_beerid=50537, rating=5.5268449783325195), Row(beer_beerid=21025, rating=5.5233235359191895), Row(beer_beerid=11895, rating=5.522595405578613), Row(beer_beerid=58338, rating=5.522588729858398), Row(beer_beerid=38891, rating=5.520953178405762), Row(beer_beerid=20584, rating=5.520063400268555), Row(beer_beerid=62145, rating=5.509883403778076), Row(beer_beerid=37070, rating=5.508092403411865), Row(beer_beerid=57361, rating=5.507118225097656), Row(beer_beerid=27352, rating=5.506506443023682), Row(beer_beerid=73376, rating=5.506348609924316), Row(beer_beerid=63692, rating=5.505742073059082), Row(beer_beerid=52165, rating=5.504812717437744), Row(beer_beerid=64744, rating=5.503966808319092), Row(beer_beerid=38974, rating=5.502322196960449), Row(beer_beerid=62871, rating=5.502322196960449), Row(beer_beerid=64561, rating=5.501119136810303), Row(beer_beerid=67283, rating=5.501119136810303), Row(beer_beerid=60411, rating=5.501119136810303), Row(beer_beerid=56211, rating=5.500370979309082), Row(beer_beerid=47365, rating=5.500370979309082), Row(beer_beerid=47616, rating=5.500370979309082), Row(beer_beerid=17210, rating=5.499903678894043), Row(beer_beerid=54516, rating=5.4975504875183105), Row(beer_beerid=32462, rating=5.497433662414551), Row(beer_beerid=36467, rating=5.496410846710205), Row(beer_beerid=65469, rating=5.494949817657471), Row(beer_beerid=76583, rating=5.494949817657471), Row(beer_beerid=66025, rating=5.494949817657471), Row(beer_beerid=54147, rating=5.494843482971191), Row(beer_beerid=53458, rating=5.494243621826172), Row(beer_beerid=77173, rating=5.49253511428833), Row(beer_beerid=56046, rating=5.492101669311523), Row(beer_beerid=72131, rating=5.4917311668396), Row(beer_beerid=69732, rating=5.48951530456543), Row(beer_beerid=56266, rating=5.487599849700928), Row(beer_beerid=65915, rating=5.486939907073975), Row(beer_beerid=26829, rating=5.48576545715332), Row(beer_beerid=50629, rating=5.485661506652832), Row(beer_beerid=52107, rating=5.485253810882568), Row(beer_beerid=65843, rating=5.485151290893555), Row(beer_beerid=13853, rating=5.483715057373047), Row(beer_beerid=68991, rating=5.4824748039245605), Row(beer_beerid=59787, rating=5.482032299041748), Row(beer_beerid=59650, rating=5.48198938369751), Row(beer_beerid=60926, rating=5.480071544647217)]),\n",
       " Row(user_id=21429, recommendations=[Row(beer_beerid=24961, rating=5.476594924926758), Row(beer_beerid=21596, rating=5.342128753662109), Row(beer_beerid=19081, rating=5.342128753662109), Row(beer_beerid=32744, rating=5.302213668823242), Row(beer_beerid=45680, rating=5.2505388259887695), Row(beer_beerid=69746, rating=5.214608192443848), Row(beer_beerid=69880, rating=5.214608192443848), Row(beer_beerid=1131, rating=5.204566955566406), Row(beer_beerid=1272, rating=5.204566955566406), Row(beer_beerid=1098, rating=5.204566955566406), Row(beer_beerid=64671, rating=5.188444137573242), Row(beer_beerid=49736, rating=5.173490524291992), Row(beer_beerid=47189, rating=5.169278144836426), Row(beer_beerid=63276, rating=5.164000511169434), Row(beer_beerid=65490, rating=5.164000511169434), Row(beer_beerid=31338, rating=5.160184383392334), Row(beer_beerid=47661, rating=5.147634029388428), Row(beer_beerid=42941, rating=5.147634029388428), Row(beer_beerid=49042, rating=5.147634029388428), Row(beer_beerid=55613, rating=5.140850067138672), Row(beer_beerid=39862, rating=5.140850067138672), Row(beer_beerid=35361, rating=5.115204811096191), Row(beer_beerid=57582, rating=5.11387300491333), Row(beer_beerid=45464, rating=5.1006622314453125), Row(beer_beerid=68614, rating=5.093350887298584), Row(beer_beerid=8440, rating=5.090865135192871), Row(beer_beerid=65029, rating=5.083048343658447), Row(beer_beerid=66279, rating=5.077597618103027), Row(beer_beerid=71806, rating=5.076839447021484), Row(beer_beerid=13222, rating=5.074343681335449), Row(beer_beerid=1734, rating=5.074343681335449), Row(beer_beerid=20480, rating=5.062201499938965), Row(beer_beerid=53188, rating=5.055956840515137), Row(beer_beerid=61497, rating=5.053515911102295), Row(beer_beerid=69480, rating=5.043197154998779), Row(beer_beerid=12455, rating=5.0429487228393555), Row(beer_beerid=45400, rating=5.033047676086426), Row(beer_beerid=34848, rating=5.022291660308838), Row(beer_beerid=493, rating=5.021374225616455), Row(beer_beerid=16697, rating=5.020138263702393), Row(beer_beerid=43874, rating=5.01997709274292), Row(beer_beerid=18688, rating=5.0190534591674805), Row(beer_beerid=30382, rating=5.018644332885742), Row(beer_beerid=45184, rating=5.015751838684082), Row(beer_beerid=49954, rating=5.015361785888672), Row(beer_beerid=33066, rating=5.005129337310791), Row(beer_beerid=63179, rating=5.003734111785889), Row(beer_beerid=21377, rating=5.003594875335693), Row(beer_beerid=13740, rating=5.003594875335693), Row(beer_beerid=20784, rating=5.003594875335693), Row(beer_beerid=45620, rating=4.997081279754639), Row(beer_beerid=41695, rating=4.98501443862915), Row(beer_beerid=40861, rating=4.982332706451416), Row(beer_beerid=40917, rating=4.981249809265137), Row(beer_beerid=44254, rating=4.981249809265137), Row(beer_beerid=59330, rating=4.975342750549316), Row(beer_beerid=64744, rating=4.972026824951172), Row(beer_beerid=76354, rating=4.9703369140625), Row(beer_beerid=55368, rating=4.9699015617370605), Row(beer_beerid=34470, rating=4.968331813812256), Row(beer_beerid=16884, rating=4.967319488525391), Row(beer_beerid=19073, rating=4.967099666595459), Row(beer_beerid=68665, rating=4.966588497161865), Row(beer_beerid=32462, rating=4.963675022125244), Row(beer_beerid=72899, rating=4.9623541831970215), Row(beer_beerid=44113, rating=4.961371421813965), Row(beer_beerid=28230, rating=4.959418296813965), Row(beer_beerid=63061, rating=4.959409713745117), Row(beer_beerid=14715, rating=4.956945896148682), Row(beer_beerid=61475, rating=4.956624507904053), Row(beer_beerid=66421, rating=4.956157684326172), Row(beer_beerid=12716, rating=4.952292442321777), Row(beer_beerid=12181, rating=4.948463439941406), Row(beer_beerid=59958, rating=4.947696685791016), Row(beer_beerid=60795, rating=4.947696685791016), Row(beer_beerid=59646, rating=4.947033405303955), Row(beer_beerid=25919, rating=4.942862033843994), Row(beer_beerid=25156, rating=4.942862033843994), Row(beer_beerid=8584, rating=4.941447734832764), Row(beer_beerid=51196, rating=4.940586566925049), Row(beer_beerid=48849, rating=4.939643383026123), Row(beer_beerid=16054, rating=4.9354119300842285), Row(beer_beerid=16928, rating=4.9354119300842285), Row(beer_beerid=14991, rating=4.9354119300842285), Row(beer_beerid=24806, rating=4.933937072753906), Row(beer_beerid=39845, rating=4.933937072753906), Row(beer_beerid=54011, rating=4.933511734008789), Row(beer_beerid=76563, rating=4.932589530944824), Row(beer_beerid=19244, rating=4.930580139160156), Row(beer_beerid=61776, rating=4.927515506744385), Row(beer_beerid=25702, rating=4.927390098571777), Row(beer_beerid=29112, rating=4.926192760467529), Row(beer_beerid=37464, rating=4.925334930419922), Row(beer_beerid=61121, rating=4.922796249389648), Row(beer_beerid=7015, rating=4.922284126281738), Row(beer_beerid=5083, rating=4.922284126281738), Row(beer_beerid=5207, rating=4.922284126281738), Row(beer_beerid=58376, rating=4.922049045562744), Row(beer_beerid=53361, rating=4.92109489440918), Row(beer_beerid=60069, rating=4.917344093322754), Row(beer_beerid=61383, rating=4.917344093322754), Row(beer_beerid=28483, rating=4.917344093322754), Row(beer_beerid=64487, rating=4.917344093322754), Row(beer_beerid=52714, rating=4.917344093322754), Row(beer_beerid=50844, rating=4.917344093322754), Row(beer_beerid=73727, rating=4.917344093322754), Row(beer_beerid=20513, rating=4.914846420288086), Row(beer_beerid=40899, rating=4.9137091636657715), Row(beer_beerid=28603, rating=4.912553787231445), Row(beer_beerid=53817, rating=4.912406921386719), Row(beer_beerid=36467, rating=4.910236358642578), Row(beer_beerid=43141, rating=4.909977912902832), Row(beer_beerid=66533, rating=4.907735824584961), Row(beer_beerid=27710, rating=4.9065351486206055), Row(beer_beerid=35294, rating=4.9065351486206055), Row(beer_beerid=32283, rating=4.9065351486206055), Row(beer_beerid=34453, rating=4.9065351486206055), Row(beer_beerid=29216, rating=4.9065351486206055), Row(beer_beerid=3270, rating=4.9046807289123535), Row(beer_beerid=49665, rating=4.901504993438721), Row(beer_beerid=55375, rating=4.901015758514404), Row(beer_beerid=54147, rating=4.899764060974121), Row(beer_beerid=37977, rating=4.898945331573486), Row(beer_beerid=66842, rating=4.898929119110107), Row(beer_beerid=7365, rating=4.895507335662842), Row(beer_beerid=15321, rating=4.8953423500061035), Row(beer_beerid=60204, rating=4.8942952156066895), Row(beer_beerid=57888, rating=4.8926920890808105), Row(beer_beerid=67653, rating=4.891016006469727), Row(beer_beerid=64836, rating=4.887741565704346), Row(beer_beerid=65915, rating=4.8850932121276855), Row(beer_beerid=39026, rating=4.881404876708984), Row(beer_beerid=20584, rating=4.880822658538818), Row(beer_beerid=52107, rating=4.880530834197998), Row(beer_beerid=21780, rating=4.880444526672363), Row(beer_beerid=19191, rating=4.878993034362793), Row(beer_beerid=43063, rating=4.878587245941162), Row(beer_beerid=52813, rating=4.878354072570801), Row(beer_beerid=47680, rating=4.878354072570801), Row(beer_beerid=49961, rating=4.878354072570801), Row(beer_beerid=56046, rating=4.876438140869141), Row(beer_beerid=55337, rating=4.8749871253967285), Row(beer_beerid=60116, rating=4.8749871253967285), Row(beer_beerid=56266, rating=4.873239517211914), Row(beer_beerid=38974, rating=4.871242523193359), Row(beer_beerid=62871, rating=4.871242523193359), Row(beer_beerid=63657, rating=4.87048864364624), Row(beer_beerid=63673, rating=4.868146896362305), Row(beer_beerid=43833, rating=4.868045806884766), Row(beer_beerid=25211, rating=4.866637706756592), Row(beer_beerid=48234, rating=4.866214752197266), Row(beer_beerid=37070, rating=4.863109111785889), Row(beer_beerid=77087, rating=4.86199951171875), Row(beer_beerid=26577, rating=4.861611366271973), Row(beer_beerid=60939, rating=4.861611366271973), Row(beer_beerid=60667, rating=4.861611366271973), Row(beer_beerid=13150, rating=4.860715389251709), Row(beer_beerid=60702, rating=4.860189437866211), Row(beer_beerid=30996, rating=4.859304904937744), Row(beer_beerid=34679, rating=4.859304904937744), Row(beer_beerid=20521, rating=4.857542514801025), Row(beer_beerid=54356, rating=4.855233669281006), Row(beer_beerid=69344, rating=4.852436065673828), Row(beer_beerid=19051, rating=4.852077484130859), Row(beer_beerid=55072, rating=4.852070331573486), Row(beer_beerid=64606, rating=4.852070331573486), Row(beer_beerid=55569, rating=4.852070331573486), Row(beer_beerid=27768, rating=4.851954460144043), Row(beer_beerid=64445, rating=4.851527690887451), Row(beer_beerid=63746, rating=4.850629806518555), Row(beer_beerid=59147, rating=4.849371433258057), Row(beer_beerid=50797, rating=4.848966121673584), Row(beer_beerid=62812, rating=4.848966121673584), Row(beer_beerid=66212, rating=4.848964691162109), Row(beer_beerid=39615, rating=4.84646463394165), Row(beer_beerid=8990, rating=4.84646463394165), Row(beer_beerid=57142, rating=4.846299648284912), Row(beer_beerid=57943, rating=4.846299648284912), Row(beer_beerid=48794, rating=4.845970630645752), Row(beer_beerid=50629, rating=4.845482349395752), Row(beer_beerid=30043, rating=4.841285228729248), Row(beer_beerid=33623, rating=4.839254856109619), Row(beer_beerid=50454, rating=4.839132308959961), Row(beer_beerid=43890, rating=4.83694314956665), Row(beer_beerid=42849, rating=4.836887359619141), Row(beer_beerid=56169, rating=4.836230278015137), Row(beer_beerid=5945, rating=4.836034774780273), Row(beer_beerid=33218, rating=4.8358235359191895), Row(beer_beerid=43368, rating=4.8358235359191895), Row(beer_beerid=69794, rating=4.834372520446777), Row(beer_beerid=69665, rating=4.834372520446777), Row(beer_beerid=57041, rating=4.834372520446777), Row(beer_beerid=62335, rating=4.8342180252075195), Row(beer_beerid=60120, rating=4.8342180252075195), Row(beer_beerid=45674, rating=4.833252906799316), Row(beer_beerid=48501, rating=4.833252906799316), Row(beer_beerid=57600, rating=4.833223819732666), Row(beer_beerid=52733, rating=4.832035064697266), Row(beer_beerid=21025, rating=4.831921100616455), Row(beer_beerid=39922, rating=4.831691741943359)]),\n",
       " Row(user_id=1122, recommendations=[Row(beer_beerid=24961, rating=5.104242324829102), Row(beer_beerid=32744, rating=5.030524253845215), Row(beer_beerid=1272, rating=4.842062473297119), Row(beer_beerid=1131, rating=4.842062473297119), Row(beer_beerid=1098, rating=4.842062473297119), Row(beer_beerid=45680, rating=4.8310227394104), Row(beer_beerid=36166, rating=4.821939945220947), Row(beer_beerid=35361, rating=4.7972331047058105), Row(beer_beerid=24864, rating=4.768192768096924), Row(beer_beerid=69480, rating=4.764822006225586), Row(beer_beerid=53731, rating=4.759998321533203), Row(beer_beerid=76115, rating=4.759998321533203), Row(beer_beerid=49042, rating=4.75738525390625), Row(beer_beerid=47661, rating=4.75738525390625), Row(beer_beerid=42941, rating=4.75738525390625), Row(beer_beerid=57582, rating=4.753641605377197), Row(beer_beerid=49954, rating=4.7450337409973145), Row(beer_beerid=50844, rating=4.73630952835083), Row(beer_beerid=52714, rating=4.73630952835083), Row(beer_beerid=61383, rating=4.73630952835083), Row(beer_beerid=28483, rating=4.73630952835083), Row(beer_beerid=73727, rating=4.73630952835083), Row(beer_beerid=64487, rating=4.73630952835083), Row(beer_beerid=60069, rating=4.73630952835083), Row(beer_beerid=24806, rating=4.731370449066162), Row(beer_beerid=39845, rating=4.731370449066162), Row(beer_beerid=61497, rating=4.73130464553833), Row(beer_beerid=66279, rating=4.727419376373291), Row(beer_beerid=19244, rating=4.726682186126709), Row(beer_beerid=68614, rating=4.726617813110352), Row(beer_beerid=45400, rating=4.724237442016602), Row(beer_beerid=76354, rating=4.717336654663086), Row(beer_beerid=47189, rating=4.71214485168457), Row(beer_beerid=41695, rating=4.706076622009277), Row(beer_beerid=53188, rating=4.70254373550415), Row(beer_beerid=14991, rating=4.701883316040039), Row(beer_beerid=16054, rating=4.701883316040039), Row(beer_beerid=16928, rating=4.701883316040039), Row(beer_beerid=51196, rating=4.700669765472412), Row(beer_beerid=61475, rating=4.7000508308410645), Row(beer_beerid=43874, rating=4.699560642242432), Row(beer_beerid=30382, rating=4.693301200866699), Row(beer_beerid=8192, rating=4.691132545471191), Row(beer_beerid=51387, rating=4.6897101402282715), Row(beer_beerid=1734, rating=4.685086727142334), Row(beer_beerid=13222, rating=4.685086727142334), Row(beer_beerid=54011, rating=4.681196689605713), Row(beer_beerid=14715, rating=4.679833889007568), Row(beer_beerid=55368, rating=4.676453113555908), Row(beer_beerid=57888, rating=4.674946308135986), Row(beer_beerid=68665, rating=4.674172878265381), Row(beer_beerid=39862, rating=4.674036502838135), Row(beer_beerid=55613, rating=4.674036502838135), Row(beer_beerid=69344, rating=4.673867225646973), Row(beer_beerid=40861, rating=4.671808242797852), Row(beer_beerid=63276, rating=4.670560359954834), Row(beer_beerid=65490, rating=4.670560359954834), Row(beer_beerid=50840, rating=4.6687541007995605), Row(beer_beerid=62709, rating=4.6687541007995605), Row(beer_beerid=43890, rating=4.666574478149414), Row(beer_beerid=63179, rating=4.664299964904785), Row(beer_beerid=34470, rating=4.663784027099609), Row(beer_beerid=8440, rating=4.661723613739014), Row(beer_beerid=49665, rating=4.659704685211182), Row(beer_beerid=29771, rating=4.6595988273620605), Row(beer_beerid=8933, rating=4.6595988273620605), Row(beer_beerid=40899, rating=4.656990051269531), Row(beer_beerid=58376, rating=4.653695106506348), Row(beer_beerid=43141, rating=4.6531147956848145), Row(beer_beerid=45184, rating=4.652641296386719), Row(beer_beerid=27768, rating=4.650745391845703), Row(beer_beerid=29112, rating=4.650292873382568), Row(beer_beerid=21377, rating=4.6501145362854), Row(beer_beerid=20784, rating=4.6501145362854), Row(beer_beerid=13740, rating=4.6501145362854), Row(beer_beerid=72899, rating=4.648622512817383), Row(beer_beerid=59330, rating=4.647985935211182), Row(beer_beerid=34848, rating=4.647961139678955), Row(beer_beerid=493, rating=4.64255428314209), Row(beer_beerid=31338, rating=4.640191078186035), Row(beer_beerid=12455, rating=4.639035224914551), Row(beer_beerid=63061, rating=4.6389384269714355), Row(beer_beerid=66533, rating=4.638847827911377), Row(beer_beerid=39615, rating=4.63700532913208), Row(beer_beerid=8990, rating=4.63700532913208), Row(beer_beerid=28230, rating=4.6365838050842285), Row(beer_beerid=16697, rating=4.6362128257751465), Row(beer_beerid=49736, rating=4.6360297203063965), Row(beer_beerid=37070, rating=4.629853248596191), Row(beer_beerid=19073, rating=4.6283369064331055), Row(beer_beerid=32462, rating=4.625495910644531), Row(beer_beerid=42050, rating=4.622868537902832), Row(beer_beerid=63746, rating=4.622036933898926), Row(beer_beerid=25211, rating=4.618968963623047), Row(beer_beerid=65368, rating=4.618254661560059), Row(beer_beerid=21780, rating=4.609466552734375), Row(beer_beerid=21025, rating=4.609229564666748), Row(beer_beerid=50797, rating=4.607497692108154), Row(beer_beerid=62812, rating=4.607497692108154), Row(beer_beerid=44254, rating=4.607297420501709), Row(beer_beerid=40917, rating=4.607297420501709), Row(beer_beerid=3270, rating=4.60524320602417), Row(beer_beerid=66421, rating=4.598616123199463), Row(beer_beerid=33249, rating=4.59694242477417), Row(beer_beerid=76563, rating=4.596846580505371), Row(beer_beerid=45464, rating=4.596210956573486), Row(beer_beerid=15289, rating=4.5937347412109375), Row(beer_beerid=41494, rating=4.593388557434082), Row(beer_beerid=39026, rating=4.593315124511719), Row(beer_beerid=59646, rating=4.592602252960205), Row(beer_beerid=44113, rating=4.591731071472168), Row(beer_beerid=43063, rating=4.591627597808838), Row(beer_beerid=55337, rating=4.585464000701904), Row(beer_beerid=60116, rating=4.585464000701904), Row(beer_beerid=56342, rating=4.584957122802734), Row(beer_beerid=57142, rating=4.58266019821167), Row(beer_beerid=57943, rating=4.58266019821167), Row(beer_beerid=75221, rating=4.582167148590088), Row(beer_beerid=24273, rating=4.581204891204834), Row(beer_beerid=57600, rating=4.5804338455200195), Row(beer_beerid=8584, rating=4.579446315765381), Row(beer_beerid=33066, rating=4.578762531280518), Row(beer_beerid=25702, rating=4.578598499298096), Row(beer_beerid=13960, rating=4.576076984405518), Row(beer_beerid=65915, rating=4.57551383972168), Row(beer_beerid=70054, rating=4.57539701461792), Row(beer_beerid=26829, rating=4.5751800537109375), Row(beer_beerid=19191, rating=4.5747833251953125), Row(beer_beerid=64484, rating=4.57392692565918), Row(beer_beerid=5579, rating=4.573453426361084), Row(beer_beerid=46517, rating=4.572749137878418), Row(beer_beerid=35355, rating=4.5722455978393555), Row(beer_beerid=33273, rating=4.5722455978393555), Row(beer_beerid=6445, rating=4.5722455978393555), Row(beer_beerid=37855, rating=4.5722455978393555), Row(beer_beerid=35978, rating=4.5722455978393555), Row(beer_beerid=41561, rating=4.5722455978393555), Row(beer_beerid=42714, rating=4.5722455978393555), Row(beer_beerid=36345, rating=4.5722455978393555), Row(beer_beerid=33402, rating=4.5722455978393555), Row(beer_beerid=61776, rating=4.572151184082031), Row(beer_beerid=69732, rating=4.571197986602783), Row(beer_beerid=38891, rating=4.570634365081787), Row(beer_beerid=45620, rating=4.570530891418457), Row(beer_beerid=69794, rating=4.568559169769287), Row(beer_beerid=69665, rating=4.568559169769287), Row(beer_beerid=57041, rating=4.568559169769287), Row(beer_beerid=41299, rating=4.567636966705322), Row(beer_beerid=43471, rating=4.567636966705322), Row(beer_beerid=39481, rating=4.567636966705322), Row(beer_beerid=33623, rating=4.566696643829346), Row(beer_beerid=67111, rating=4.56463098526001), Row(beer_beerid=50084, rating=4.563774585723877), Row(beer_beerid=58338, rating=4.562865734100342), Row(beer_beerid=52107, rating=4.561769008636475), Row(beer_beerid=60702, rating=4.560358047485352), Row(beer_beerid=77087, rating=4.559386730194092), Row(beer_beerid=67182, rating=4.55881929397583), Row(beer_beerid=55569, rating=4.556656837463379), Row(beer_beerid=64606, rating=4.556656837463379), Row(beer_beerid=55072, rating=4.556656837463379), Row(beer_beerid=19271, rating=4.5547776222229), Row(beer_beerid=51494, rating=4.553523063659668), Row(beer_beerid=62704, rating=4.5532450675964355), Row(beer_beerid=44112, rating=4.5532355308532715), Row(beer_beerid=39628, rating=4.549482822418213), Row(beer_beerid=50454, rating=4.548924446105957), Row(beer_beerid=71806, rating=4.548205852508545), Row(beer_beerid=52165, rating=4.543331146240234), Row(beer_beerid=44910, rating=4.541301727294922), Row(beer_beerid=20480, rating=4.541113376617432), Row(beer_beerid=60795, rating=4.540109634399414), Row(beer_beerid=59958, rating=4.540109634399414), Row(beer_beerid=33218, rating=4.538631916046143), Row(beer_beerid=43368, rating=4.538631916046143), Row(beer_beerid=64671, rating=4.538604736328125), Row(beer_beerid=44408, rating=4.538162708282471), Row(beer_beerid=56169, rating=4.5328264236450195), Row(beer_beerid=32382, rating=4.532559394836426), Row(beer_beerid=51454, rating=4.532447338104248), Row(beer_beerid=64445, rating=4.53239631652832), Row(beer_beerid=57361, rating=4.530786991119385), Row(beer_beerid=63673, rating=4.530298709869385), Row(beer_beerid=65029, rating=4.529140472412109), Row(beer_beerid=8553, rating=4.5278449058532715), Row(beer_beerid=33823, rating=4.527471542358398), Row(beer_beerid=52558, rating=4.526991367340088), Row(beer_beerid=52362, rating=4.526991367340088), Row(beer_beerid=30665, rating=4.526915550231934), Row(beer_beerid=50513, rating=4.526132583618164), Row(beer_beerid=50537, rating=4.52591609954834), Row(beer_beerid=39922, rating=4.524707317352295), Row(beer_beerid=20584, rating=4.524498462677002), Row(beer_beerid=36467, rating=4.522771835327148), Row(beer_beerid=20513, rating=4.522396087646484), Row(beer_beerid=16686, rating=4.521129608154297), Row(beer_beerid=54242, rating=4.5207414627075195), Row(beer_beerid=66842, rating=4.520351886749268), Row(beer_beerid=63657, rating=4.520160675048828), Row(beer_beerid=65556, rating=4.520014762878418)]),\n",
       " Row(user_id=22160, recommendations=[Row(beer_beerid=24961, rating=4.47920560836792), Row(beer_beerid=57582, rating=4.465935230255127), Row(beer_beerid=32744, rating=4.439849376678467), Row(beer_beerid=49042, rating=4.395092010498047), Row(beer_beerid=42941, rating=4.395092010498047), Row(beer_beerid=47661, rating=4.395092010498047), Row(beer_beerid=1131, rating=4.383605480194092), Row(beer_beerid=1272, rating=4.383605480194092), Row(beer_beerid=1098, rating=4.383605480194092), Row(beer_beerid=45680, rating=4.383399486541748), Row(beer_beerid=62145, rating=4.376978397369385), Row(beer_beerid=24864, rating=4.373636245727539), Row(beer_beerid=68665, rating=4.364252090454102), Row(beer_beerid=66841, rating=4.36375093460083), Row(beer_beerid=54147, rating=4.362993240356445), Row(beer_beerid=54142, rating=4.353506565093994), Row(beer_beerid=53188, rating=4.350186347961426), Row(beer_beerid=16697, rating=4.347504615783691), Row(beer_beerid=53817, rating=4.342051982879639), Row(beer_beerid=57041, rating=4.32801628112793), Row(beer_beerid=69794, rating=4.32801628112793), Row(beer_beerid=69665, rating=4.32801628112793), Row(beer_beerid=64744, rating=4.310088634490967), Row(beer_beerid=76354, rating=4.30640172958374), Row(beer_beerid=43890, rating=4.306133270263672), Row(beer_beerid=69480, rating=4.300014972686768), Row(beer_beerid=45464, rating=4.297944068908691), Row(beer_beerid=48849, rating=4.290099143981934), Row(beer_beerid=20584, rating=4.288125991821289), Row(beer_beerid=68614, rating=4.285529613494873), Row(beer_beerid=9782, rating=4.285376071929932), Row(beer_beerid=66279, rating=4.283173084259033), Row(beer_beerid=14991, rating=4.279019832611084), Row(beer_beerid=16054, rating=4.279019832611084), Row(beer_beerid=16928, rating=4.279019832611084), Row(beer_beerid=31338, rating=4.278231143951416), Row(beer_beerid=61497, rating=4.277768611907959), Row(beer_beerid=70058, rating=4.275900363922119), Row(beer_beerid=49954, rating=4.274254322052002), Row(beer_beerid=56839, rating=4.271850109100342), Row(beer_beerid=35361, rating=4.270610809326172), Row(beer_beerid=66421, rating=4.270044326782227), Row(beer_beerid=45400, rating=4.269895553588867), Row(beer_beerid=47189, rating=4.269309997558594), Row(beer_beerid=51535, rating=4.260834217071533), Row(beer_beerid=57431, rating=4.260834217071533), Row(beer_beerid=71531, rating=4.260834217071533), Row(beer_beerid=55042, rating=4.260834217071533), Row(beer_beerid=50904, rating=4.260834217071533), Row(beer_beerid=30382, rating=4.258925914764404), Row(beer_beerid=43141, rating=4.256138801574707), Row(beer_beerid=67653, rating=4.254527568817139), Row(beer_beerid=59330, rating=4.2530436515808105), Row(beer_beerid=59646, rating=4.248538017272949), Row(beer_beerid=20784, rating=4.2456536293029785), Row(beer_beerid=13740, rating=4.2456536293029785), Row(beer_beerid=21377, rating=4.2456536293029785), Row(beer_beerid=65029, rating=4.241025924682617), Row(beer_beerid=25211, rating=4.240995407104492), Row(beer_beerid=65686, rating=4.237867832183838), Row(beer_beerid=57943, rating=4.237444877624512), Row(beer_beerid=57142, rating=4.237444877624512), Row(beer_beerid=47218, rating=4.237163543701172), Row(beer_beerid=62955, rating=4.2360148429870605), Row(beer_beerid=51387, rating=4.232330322265625), Row(beer_beerid=25702, rating=4.231691360473633), Row(beer_beerid=41194, rating=4.2306437492370605), Row(beer_beerid=51058, rating=4.2306437492370605), Row(beer_beerid=49062, rating=4.2306437492370605), Row(beer_beerid=40861, rating=4.22928524017334), Row(beer_beerid=66583, rating=4.2291951179504395), Row(beer_beerid=50454, rating=4.227275848388672), Row(beer_beerid=45184, rating=4.227011680603027), Row(beer_beerid=40805, rating=4.224198341369629), Row(beer_beerid=40899, rating=4.223848819732666), Row(beer_beerid=51196, rating=4.222157001495361), Row(beer_beerid=70376, rating=4.221420764923096), Row(beer_beerid=493, rating=4.217410087585449), Row(beer_beerid=67111, rating=4.217291831970215), Row(beer_beerid=41695, rating=4.2170515060424805), Row(beer_beerid=57172, rating=4.2145466804504395), Row(beer_beerid=39845, rating=4.21358060836792), Row(beer_beerid=24806, rating=4.21358060836792), Row(beer_beerid=12455, rating=4.213536262512207), Row(beer_beerid=56693, rating=4.210955619812012), Row(beer_beerid=67105, rating=4.209400177001953), Row(beer_beerid=44113, rating=4.208988189697266), Row(beer_beerid=70054, rating=4.208281993865967), Row(beer_beerid=68548, rating=4.207850933074951), Row(beer_beerid=61776, rating=4.2062458992004395), Row(beer_beerid=43874, rating=4.205758094787598), Row(beer_beerid=34470, rating=4.204299449920654), Row(beer_beerid=49736, rating=4.202907085418701), Row(beer_beerid=39862, rating=4.200201034545898), Row(beer_beerid=55613, rating=4.200201034545898), Row(beer_beerid=76563, rating=4.1993327140808105), Row(beer_beerid=1640, rating=4.198295593261719), Row(beer_beerid=55368, rating=4.197816848754883), Row(beer_beerid=14715, rating=4.196918964385986), Row(beer_beerid=61475, rating=4.194174766540527), Row(beer_beerid=48234, rating=4.192561626434326), Row(beer_beerid=8440, rating=4.191908836364746), Row(beer_beerid=60926, rating=4.191704273223877), Row(beer_beerid=8553, rating=4.189976215362549), Row(beer_beerid=42994, rating=4.189713478088379), Row(beer_beerid=54011, rating=4.189517021179199), Row(beer_beerid=54487, rating=4.188363552093506), Row(beer_beerid=57390, rating=4.188363552093506), Row(beer_beerid=41494, rating=4.187657356262207), Row(beer_beerid=66849, rating=4.187246799468994), Row(beer_beerid=20480, rating=4.186799049377441), Row(beer_beerid=42686, rating=4.185873508453369), Row(beer_beerid=63179, rating=4.185630798339844), Row(beer_beerid=27631, rating=4.185442924499512), Row(beer_beerid=33672, rating=4.184178352355957), Row(beer_beerid=66533, rating=4.182668685913086), Row(beer_beerid=28230, rating=4.181880474090576), Row(beer_beerid=8584, rating=4.17917537689209), Row(beer_beerid=65469, rating=4.177831649780273), Row(beer_beerid=66025, rating=4.177831649780273), Row(beer_beerid=76583, rating=4.177831649780273), Row(beer_beerid=63649, rating=4.1772966384887695), Row(beer_beerid=57888, rating=4.176149845123291), Row(beer_beerid=36166, rating=4.175934314727783), Row(beer_beerid=72899, rating=4.175123691558838), Row(beer_beerid=25171, rating=4.173377990722656), Row(beer_beerid=71886, rating=4.171334266662598), Row(beer_beerid=40917, rating=4.17120361328125), Row(beer_beerid=44254, rating=4.17120361328125), Row(beer_beerid=29112, rating=4.16854190826416), Row(beer_beerid=55569, rating=4.167263984680176), Row(beer_beerid=64606, rating=4.167263984680176), Row(beer_beerid=55072, rating=4.167263984680176), Row(beer_beerid=56955, rating=4.165755271911621), Row(beer_beerid=13853, rating=4.164287090301514), Row(beer_beerid=60702, rating=4.163948059082031), Row(beer_beerid=52714, rating=4.163214683532715), Row(beer_beerid=60069, rating=4.163214683532715), Row(beer_beerid=64487, rating=4.163214683532715), Row(beer_beerid=61383, rating=4.163214683532715), Row(beer_beerid=28483, rating=4.163214683532715), Row(beer_beerid=73727, rating=4.163214683532715), Row(beer_beerid=50844, rating=4.163214683532715), Row(beer_beerid=13844, rating=4.162865161895752), Row(beer_beerid=36467, rating=4.162495136260986), Row(beer_beerid=76115, rating=4.160691738128662), Row(beer_beerid=53731, rating=4.160691738128662), Row(beer_beerid=1819, rating=4.160182476043701), Row(beer_beerid=56046, rating=4.159740924835205), Row(beer_beerid=58376, rating=4.158642292022705), Row(beer_beerid=44112, rating=4.15732479095459), Row(beer_beerid=19244, rating=4.156536102294922), Row(beer_beerid=63276, rating=4.155535697937012), Row(beer_beerid=65490, rating=4.155535697937012), Row(beer_beerid=63061, rating=4.155198574066162), Row(beer_beerid=37070, rating=4.154680252075195), Row(beer_beerid=59147, rating=4.153785228729248), Row(beer_beerid=13933, rating=4.1537275314331055), Row(beer_beerid=45620, rating=4.153146266937256), Row(beer_beerid=68991, rating=4.152933120727539), Row(beer_beerid=49855, rating=4.152578830718994), Row(beer_beerid=71431, rating=4.152578830718994), Row(beer_beerid=64671, rating=4.151273727416992), Row(beer_beerid=33623, rating=4.149534702301025), Row(beer_beerid=72009, rating=4.149014472961426), Row(beer_beerid=39922, rating=4.148850440979004), Row(beer_beerid=65910, rating=4.146917819976807), Row(beer_beerid=45957, rating=4.146590709686279), Row(beer_beerid=44910, rating=4.144173622131348), Row(beer_beerid=28603, rating=4.1425676345825195), Row(beer_beerid=59971, rating=4.14241886138916), Row(beer_beerid=52646, rating=4.14241886138916), Row(beer_beerid=56266, rating=4.142397403717041), Row(beer_beerid=32462, rating=4.14187479019165), Row(beer_beerid=69221, rating=4.141412258148193), Row(beer_beerid=34848, rating=4.141104221343994), Row(beer_beerid=77294, rating=4.140711307525635), Row(beer_beerid=75956, rating=4.139248371124268), Row(beer_beerid=8626, rating=4.138732433319092), Row(beer_beerid=57913, rating=4.138707637786865), Row(beer_beerid=45295, rating=4.138405799865723), Row(beer_beerid=18688, rating=4.1367692947387695), Row(beer_beerid=56573, rating=4.136114597320557), Row(beer_beerid=2955, rating=4.136114597320557), Row(beer_beerid=1801, rating=4.136114597320557), Row(beer_beerid=519, rating=4.136114597320557), Row(beer_beerid=473, rating=4.136114597320557), Row(beer_beerid=64730, rating=4.133613109588623), Row(beer_beerid=62011, rating=4.133345127105713), Row(beer_beerid=59787, rating=4.1332855224609375), Row(beer_beerid=27352, rating=4.133072853088379), Row(beer_beerid=72323, rating=4.1326775550842285), Row(beer_beerid=63692, rating=4.131863117218018), Row(beer_beerid=65915, rating=4.129904747009277), Row(beer_beerid=12536, rating=4.128085136413574), Row(beer_beerid=60282, rating=4.1269683837890625), Row(beer_beerid=49665, rating=4.126543045043945), Row(beer_beerid=13150, rating=4.126447677612305), Row(beer_beerid=17210, rating=4.126284122467041), Row(beer_beerid=44408, rating=4.125575065612793)]),\n",
       " Row(user_id=11168, recommendations=[Row(beer_beerid=24961, rating=5.075491428375244), Row(beer_beerid=63061, rating=5.012022495269775), Row(beer_beerid=32744, rating=4.924919128417969), Row(beer_beerid=64445, rating=4.883277416229248), Row(beer_beerid=56839, rating=4.880901336669922), Row(beer_beerid=73376, rating=4.87786865234375), Row(beer_beerid=63276, rating=4.877138137817383), Row(beer_beerid=65490, rating=4.877138137817383), Row(beer_beerid=18695, rating=4.853139400482178), Row(beer_beerid=53731, rating=4.847961902618408), Row(beer_beerid=76115, rating=4.847961902618408), Row(beer_beerid=58338, rating=4.840150833129883), Row(beer_beerid=62335, rating=4.818794250488281), Row(beer_beerid=60120, rating=4.818794250488281), Row(beer_beerid=41818, rating=4.789420127868652), Row(beer_beerid=76354, rating=4.787959098815918), Row(beer_beerid=67182, rating=4.769120216369629), Row(beer_beerid=55375, rating=4.762063026428223), Row(beer_beerid=493, rating=4.7589430809021), Row(beer_beerid=61497, rating=4.755228519439697), Row(beer_beerid=25156, rating=4.751706123352051), Row(beer_beerid=25919, rating=4.751706123352051), Row(beer_beerid=62900, rating=4.748500347137451), Row(beer_beerid=19244, rating=4.7435526847839355), Row(beer_beerid=59646, rating=4.7431793212890625), Row(beer_beerid=59330, rating=4.738248348236084), Row(beer_beerid=13440, rating=4.733418941497803), Row(beer_beerid=8896, rating=4.733418941497803), Row(beer_beerid=4971, rating=4.733418941497803), Row(beer_beerid=50797, rating=4.7323431968688965), Row(beer_beerid=62812, rating=4.7323431968688965), Row(beer_beerid=48234, rating=4.718595504760742), Row(beer_beerid=61776, rating=4.712075233459473), Row(beer_beerid=40917, rating=4.710550308227539), Row(beer_beerid=44254, rating=4.710550308227539), Row(beer_beerid=8440, rating=4.709465503692627), Row(beer_beerid=38392, rating=4.706028938293457), Row(beer_beerid=34538, rating=4.7037272453308105), Row(beer_beerid=24864, rating=4.701372146606445), Row(beer_beerid=28587, rating=4.694352149963379), Row(beer_beerid=27960, rating=4.693972110748291), Row(beer_beerid=77294, rating=4.69265079498291), Row(beer_beerid=51196, rating=4.689906597137451), Row(beer_beerid=29112, rating=4.688851356506348), Row(beer_beerid=54698, rating=4.688175678253174), Row(beer_beerid=61121, rating=4.687849998474121), Row(beer_beerid=53817, rating=4.684085369110107), Row(beer_beerid=50269, rating=4.682347774505615), Row(beer_beerid=58849, rating=4.682347774505615), Row(beer_beerid=64429, rating=4.682347774505615), Row(beer_beerid=75137, rating=4.682347774505615), Row(beer_beerid=73285, rating=4.679594993591309), Row(beer_beerid=55613, rating=4.678645133972168), Row(beer_beerid=39862, rating=4.678645133972168), Row(beer_beerid=45680, rating=4.6748199462890625), Row(beer_beerid=49736, rating=4.67363166809082), Row(beer_beerid=20456, rating=4.67356014251709), Row(beer_beerid=49042, rating=4.662782192230225), Row(beer_beerid=42941, rating=4.662782192230225), Row(beer_beerid=47661, rating=4.662782192230225), Row(beer_beerid=44408, rating=4.660003185272217), Row(beer_beerid=67105, rating=4.65972900390625), Row(beer_beerid=52558, rating=4.6586198806762695), Row(beer_beerid=52362, rating=4.6586198806762695), Row(beer_beerid=45400, rating=4.657863140106201), Row(beer_beerid=49954, rating=4.656574726104736), Row(beer_beerid=40861, rating=4.651644706726074), Row(beer_beerid=60939, rating=4.649975299835205), Row(beer_beerid=60667, rating=4.649975299835205), Row(beer_beerid=26577, rating=4.649975299835205), Row(beer_beerid=23711, rating=4.647706508636475), Row(beer_beerid=43063, rating=4.638237476348877), Row(beer_beerid=12084, rating=4.636713981628418), Row(beer_beerid=23960, rating=4.636355400085449), Row(beer_beerid=36467, rating=4.6358842849731445), Row(beer_beerid=41494, rating=4.632940292358398), Row(beer_beerid=5579, rating=4.630921363830566), Row(beer_beerid=63618, rating=4.630453109741211), Row(beer_beerid=52103, rating=4.628945350646973), Row(beer_beerid=66421, rating=4.628233909606934), Row(beer_beerid=56820, rating=4.627895355224609), Row(beer_beerid=41194, rating=4.626394748687744), Row(beer_beerid=49062, rating=4.626394748687744), Row(beer_beerid=51058, rating=4.626394748687744), Row(beer_beerid=55416, rating=4.623812198638916), Row(beer_beerid=13960, rating=4.623449802398682), Row(beer_beerid=37070, rating=4.620577335357666), Row(beer_beerid=28229, rating=4.617290496826172), Row(beer_beerid=13222, rating=4.615389823913574), Row(beer_beerid=1734, rating=4.615389823913574), Row(beer_beerid=47189, rating=4.6099114418029785), Row(beer_beerid=25171, rating=4.6098198890686035), Row(beer_beerid=39922, rating=4.608945846557617), Row(beer_beerid=25211, rating=4.608365058898926), Row(beer_beerid=54416, rating=4.607920169830322), Row(beer_beerid=62029, rating=4.6074395179748535), Row(beer_beerid=68650, rating=4.606544017791748), Row(beer_beerid=61475, rating=4.604455471038818), Row(beer_beerid=10052, rating=4.603481292724609), Row(beer_beerid=57943, rating=4.602468013763428), Row(beer_beerid=57142, rating=4.602468013763428), Row(beer_beerid=64487, rating=4.601635456085205), Row(beer_beerid=73727, rating=4.601635456085205), Row(beer_beerid=61383, rating=4.601635456085205), Row(beer_beerid=52714, rating=4.601635456085205), Row(beer_beerid=50844, rating=4.601635456085205), Row(beer_beerid=28483, rating=4.601635456085205), Row(beer_beerid=60069, rating=4.601635456085205), Row(beer_beerid=43141, rating=4.600519180297852), Row(beer_beerid=64590, rating=4.5965728759765625), Row(beer_beerid=45620, rating=4.596390247344971), Row(beer_beerid=48794, rating=4.596226692199707), Row(beer_beerid=49665, rating=4.594972610473633), Row(beer_beerid=62170, rating=4.593170642852783), Row(beer_beerid=43796, rating=4.592098712921143), Row(beer_beerid=32462, rating=4.591403961181641), Row(beer_beerid=69665, rating=4.591395854949951), Row(beer_beerid=57041, rating=4.591395854949951), Row(beer_beerid=69794, rating=4.591395854949951), Row(beer_beerid=43666, rating=4.5905232429504395), Row(beer_beerid=55072, rating=4.590074062347412), Row(beer_beerid=64606, rating=4.590074062347412), Row(beer_beerid=55569, rating=4.590074062347412), Row(beer_beerid=8013, rating=4.586262226104736), Row(beer_beerid=36493, rating=4.585988521575928), Row(beer_beerid=50050, rating=4.585837364196777), Row(beer_beerid=55042, rating=4.583803653717041), Row(beer_beerid=71531, rating=4.583803653717041), Row(beer_beerid=51535, rating=4.583803653717041), Row(beer_beerid=57431, rating=4.583803653717041), Row(beer_beerid=50904, rating=4.583803653717041), Row(beer_beerid=12892, rating=4.582849502563477), Row(beer_beerid=52646, rating=4.582022190093994), Row(beer_beerid=59971, rating=4.582022190093994), Row(beer_beerid=63179, rating=4.581917762756348), Row(beer_beerid=72899, rating=4.58026647567749), Row(beer_beerid=46076, rating=4.579920768737793), Row(beer_beerid=38241, rating=4.579286098480225), Row(beer_beerid=60204, rating=4.5792059898376465), Row(beer_beerid=64671, rating=4.5781025886535645), Row(beer_beerid=43890, rating=4.577277660369873), Row(beer_beerid=8553, rating=4.575934410095215), Row(beer_beerid=65915, rating=4.5732102394104), Row(beer_beerid=33623, rating=4.573199272155762), Row(beer_beerid=41360, rating=4.572799205780029), Row(beer_beerid=58376, rating=4.570049285888672), Row(beer_beerid=17687, rating=4.569533348083496), Row(beer_beerid=1272, rating=4.5652594566345215), Row(beer_beerid=1098, rating=4.5652594566345215), Row(beer_beerid=1131, rating=4.5652594566345215), Row(beer_beerid=65029, rating=4.564105033874512), Row(beer_beerid=69183, rating=4.563313007354736), Row(beer_beerid=41695, rating=4.5630412101745605), Row(beer_beerid=44236, rating=4.562602519989014), Row(beer_beerid=15321, rating=4.559352874755859), Row(beer_beerid=33249, rating=4.558507919311523), Row(beer_beerid=39026, rating=4.558297634124756), Row(beer_beerid=66279, rating=4.558187007904053), Row(beer_beerid=63657, rating=4.558140754699707), Row(beer_beerid=31837, rating=4.557064533233643), Row(beer_beerid=33066, rating=4.555909156799316), Row(beer_beerid=63746, rating=4.555637836456299), Row(beer_beerid=26558, rating=4.554715633392334), Row(beer_beerid=45184, rating=4.552493095397949), Row(beer_beerid=76751, rating=4.552243709564209), Row(beer_beerid=39845, rating=4.549931526184082), Row(beer_beerid=24806, rating=4.549931526184082), Row(beer_beerid=8584, rating=4.548257827758789), Row(beer_beerid=23089, rating=4.5458245277404785), Row(beer_beerid=51387, rating=4.543569564819336), Row(beer_beerid=65581, rating=4.542104244232178), Row(beer_beerid=21002, rating=4.541284561157227), Row(beer_beerid=69344, rating=4.5410003662109375), Row(beer_beerid=56955, rating=4.540764808654785), Row(beer_beerid=12438, rating=4.539548873901367), Row(beer_beerid=30382, rating=4.538753032684326), Row(beer_beerid=37184, rating=4.537225246429443), Row(beer_beerid=26757, rating=4.536815643310547), Row(beer_beerid=69732, rating=4.535666465759277), Row(beer_beerid=54516, rating=4.5355916023254395), Row(beer_beerid=15262, rating=4.535491943359375), Row(beer_beerid=42844, rating=4.531590461730957), Row(beer_beerid=26199, rating=4.530270099639893), Row(beer_beerid=43244, rating=4.529251575469971), Row(beer_beerid=30752, rating=4.529201030731201), Row(beer_beerid=9663, rating=4.528988361358643), Row(beer_beerid=57582, rating=4.528368949890137), Row(beer_beerid=53188, rating=4.527868747711182), Row(beer_beerid=75324, rating=4.527466773986816), Row(beer_beerid=50929, rating=4.527122974395752), Row(beer_beerid=60850, rating=4.5260419845581055), Row(beer_beerid=63104, rating=4.5238356590271), Row(beer_beerid=73802, rating=4.520578861236572), Row(beer_beerid=73439, rating=4.520578861236572), Row(beer_beerid=1110, rating=4.519774913787842), Row(beer_beerid=65186, rating=4.519682884216309), Row(beer_beerid=40334, rating=4.519290447235107), Row(beer_beerid=37464, rating=4.518150329589844), Row(beer_beerid=48917, rating=4.5153279304504395), Row(beer_beerid=70739, rating=4.515050411224365)]),\n",
       " Row(user_id=2183, recommendations=[Row(beer_beerid=24961, rating=5.273130893707275), Row(beer_beerid=32744, rating=5.185458183288574), Row(beer_beerid=24864, rating=5.171380043029785), Row(beer_beerid=76115, rating=5.0955491065979), Row(beer_beerid=53731, rating=5.0955491065979), Row(beer_beerid=47661, rating=5.041957378387451), Row(beer_beerid=49042, rating=5.041957378387451), Row(beer_beerid=42941, rating=5.041957378387451), Row(beer_beerid=8553, rating=5.032844066619873), Row(beer_beerid=45680, rating=4.982158184051514), Row(beer_beerid=76354, rating=4.963786602020264), Row(beer_beerid=63061, rating=4.958427906036377), Row(beer_beerid=57582, rating=4.958274841308594), Row(beer_beerid=61497, rating=4.957728385925293), Row(beer_beerid=59330, rating=4.954551696777344), Row(beer_beerid=43141, rating=4.952647686004639), Row(beer_beerid=45400, rating=4.950026988983154), Row(beer_beerid=71531, rating=4.945724010467529), Row(beer_beerid=57431, rating=4.945724010467529), Row(beer_beerid=55042, rating=4.945724010467529), Row(beer_beerid=50904, rating=4.945724010467529), Row(beer_beerid=51535, rating=4.945724010467529), Row(beer_beerid=49954, rating=4.9359450340271), Row(beer_beerid=43890, rating=4.933454513549805), Row(beer_beerid=8440, rating=4.9309515953063965), Row(beer_beerid=51196, rating=4.930749416351318), Row(beer_beerid=43063, rating=4.929415702819824), Row(beer_beerid=54487, rating=4.921013355255127), Row(beer_beerid=57390, rating=4.921013355255127), Row(beer_beerid=19244, rating=4.914565563201904), Row(beer_beerid=51387, rating=4.914351940155029), Row(beer_beerid=41818, rating=4.912407875061035), Row(beer_beerid=29112, rating=4.9073920249938965), Row(beer_beerid=66421, rating=4.906800270080566), Row(beer_beerid=56820, rating=4.900782108306885), Row(beer_beerid=61475, rating=4.898885726928711), Row(beer_beerid=59646, rating=4.8987507820129395), Row(beer_beerid=37070, rating=4.894651889801025), Row(beer_beerid=8192, rating=4.894342422485352), Row(beer_beerid=39922, rating=4.890816688537598), Row(beer_beerid=53817, rating=4.88493013381958), Row(beer_beerid=66279, rating=4.883501052856445), Row(beer_beerid=40861, rating=4.882582187652588), Row(beer_beerid=1098, rating=4.879879951477051), Row(beer_beerid=1272, rating=4.879879951477051), Row(beer_beerid=1131, rating=4.879879951477051), Row(beer_beerid=41695, rating=4.878935813903809), Row(beer_beerid=74083, rating=4.878897666931152), Row(beer_beerid=64590, rating=4.878794193267822), Row(beer_beerid=58338, rating=4.87672758102417), Row(beer_beerid=63276, rating=4.873661994934082), Row(beer_beerid=65490, rating=4.873661994934082), Row(beer_beerid=56839, rating=4.872983932495117), Row(beer_beerid=61776, rating=4.871300220489502), Row(beer_beerid=8990, rating=4.870590686798096), Row(beer_beerid=39615, rating=4.870590686798096), Row(beer_beerid=14715, rating=4.869027614593506), Row(beer_beerid=40899, rating=4.867496013641357), Row(beer_beerid=39845, rating=4.866086006164551), Row(beer_beerid=24806, rating=4.866086006164551), Row(beer_beerid=48234, rating=4.858922958374023), Row(beer_beerid=72899, rating=4.8565168380737305), Row(beer_beerid=42686, rating=4.854429244995117), Row(beer_beerid=69480, rating=4.854212760925293), Row(beer_beerid=63746, rating=4.852054595947266), Row(beer_beerid=37184, rating=4.847990036010742), Row(beer_beerid=47189, rating=4.847611427307129), Row(beer_beerid=67105, rating=4.845730304718018), Row(beer_beerid=58376, rating=4.84484338760376), Row(beer_beerid=493, rating=4.844827175140381), Row(beer_beerid=64445, rating=4.843498706817627), Row(beer_beerid=57888, rating=4.8434600830078125), Row(beer_beerid=39862, rating=4.843167781829834), Row(beer_beerid=55613, rating=4.843167781829834), Row(beer_beerid=41494, rating=4.842586517333984), Row(beer_beerid=44408, rating=4.842148303985596), Row(beer_beerid=38891, rating=4.839313507080078), Row(beer_beerid=68665, rating=4.839037895202637), Row(beer_beerid=77294, rating=4.838964462280273), Row(beer_beerid=53188, rating=4.836612701416016), Row(beer_beerid=54011, rating=4.835848808288574), Row(beer_beerid=51058, rating=4.834790229797363), Row(beer_beerid=41194, rating=4.834790229797363), Row(beer_beerid=49062, rating=4.834790229797363), Row(beer_beerid=50844, rating=4.833791732788086), Row(beer_beerid=52714, rating=4.833791732788086), Row(beer_beerid=28483, rating=4.833791732788086), Row(beer_beerid=60069, rating=4.833791732788086), Row(beer_beerid=64487, rating=4.833791732788086), Row(beer_beerid=73727, rating=4.833791732788086), Row(beer_beerid=61383, rating=4.833791732788086), Row(beer_beerid=13440, rating=4.832828998565674), Row(beer_beerid=4971, rating=4.832828998565674), Row(beer_beerid=8896, rating=4.832828998565674), Row(beer_beerid=34470, rating=4.829638481140137), Row(beer_beerid=55569, rating=4.827378749847412), Row(beer_beerid=64606, rating=4.827378749847412), Row(beer_beerid=55072, rating=4.827378749847412), Row(beer_beerid=25702, rating=4.8269476890563965), Row(beer_beerid=57041, rating=4.82676887512207), Row(beer_beerid=69665, rating=4.82676887512207), Row(beer_beerid=69794, rating=4.82676887512207), Row(beer_beerid=52793, rating=4.82478666305542), Row(beer_beerid=59787, rating=4.822956085205078), Row(beer_beerid=13960, rating=4.822393417358398), Row(beer_beerid=63179, rating=4.822213172912598), Row(beer_beerid=57142, rating=4.821645259857178), Row(beer_beerid=57943, rating=4.821645259857178), Row(beer_beerid=45184, rating=4.821356773376465), Row(beer_beerid=63692, rating=4.820995330810547), Row(beer_beerid=30382, rating=4.8209381103515625), Row(beer_beerid=55368, rating=4.820889949798584), Row(beer_beerid=25211, rating=4.820659160614014), Row(beer_beerid=33623, rating=4.81999397277832), Row(beer_beerid=32462, rating=4.818887233734131), Row(beer_beerid=13740, rating=4.818742752075195), Row(beer_beerid=20784, rating=4.818742752075195), Row(beer_beerid=21377, rating=4.818742752075195), Row(beer_beerid=42050, rating=4.816099166870117), Row(beer_beerid=45620, rating=4.812208652496338), Row(beer_beerid=20480, rating=4.81008768081665), Row(beer_beerid=20584, rating=4.809952735900879), Row(beer_beerid=49665, rating=4.807877063751221), Row(beer_beerid=35361, rating=4.80729866027832), Row(beer_beerid=50797, rating=4.806325912475586), Row(beer_beerid=62812, rating=4.806325912475586), Row(beer_beerid=44254, rating=4.8061981201171875), Row(beer_beerid=40917, rating=4.8061981201171875), Row(beer_beerid=59971, rating=4.805450916290283), Row(beer_beerid=52646, rating=4.805450916290283), Row(beer_beerid=72131, rating=4.804625988006592), Row(beer_beerid=69732, rating=4.802608013153076), Row(beer_beerid=48794, rating=4.802328586578369), Row(beer_beerid=27768, rating=4.800039768218994), Row(beer_beerid=68614, rating=4.796555519104004), Row(beer_beerid=51715, rating=4.793963432312012), Row(beer_beerid=76563, rating=4.793370246887207), Row(beer_beerid=66212, rating=4.789270401000977), Row(beer_beerid=65915, rating=4.787959575653076), Row(beer_beerid=66842, rating=4.785144805908203), Row(beer_beerid=8130, rating=4.7829389572143555), Row(beer_beerid=12413, rating=4.7829389572143555), Row(beer_beerid=15502, rating=4.7829389572143555), Row(beer_beerid=50929, rating=4.7792439460754395), Row(beer_beerid=12455, rating=4.7742438316345215), Row(beer_beerid=39026, rating=4.774241924285889), Row(beer_beerid=43874, rating=4.773741245269775), Row(beer_beerid=73376, rating=4.773083209991455), Row(beer_beerid=28230, rating=4.770743370056152), Row(beer_beerid=69344, rating=4.770150661468506), Row(beer_beerid=60939, rating=4.768390655517578), Row(beer_beerid=60667, rating=4.768390655517578), Row(beer_beerid=26577, rating=4.768390655517578), Row(beer_beerid=52750, rating=4.765452861785889), Row(beer_beerid=66533, rating=4.765383720397949), Row(beer_beerid=54142, rating=4.765042781829834), Row(beer_beerid=55274, rating=4.762741565704346), Row(beer_beerid=73285, rating=4.762433052062988), Row(beer_beerid=33249, rating=4.761067867279053), Row(beer_beerid=41360, rating=4.7603583335876465), Row(beer_beerid=59147, rating=4.757954120635986), Row(beer_beerid=53349, rating=4.755716800689697), Row(beer_beerid=49736, rating=4.755472660064697), Row(beer_beerid=36467, rating=4.754399299621582), Row(beer_beerid=72009, rating=4.753597259521484), Row(beer_beerid=48501, rating=4.753255367279053), Row(beer_beerid=45674, rating=4.753255367279053), Row(beer_beerid=15321, rating=4.751765727996826), Row(beer_beerid=31053, rating=4.750661849975586), Row(beer_beerid=56169, rating=4.749528408050537), Row(beer_beerid=20513, rating=4.7493181228637695), Row(beer_beerid=65029, rating=4.748877048492432), Row(beer_beerid=55416, rating=4.748621463775635), Row(beer_beerid=65686, rating=4.747994899749756), Row(beer_beerid=13844, rating=4.746644496917725), Row(beer_beerid=27352, rating=4.7453227043151855), Row(beer_beerid=50124, rating=4.745022296905518), Row(beer_beerid=50122, rating=4.745022296905518), Row(beer_beerid=33066, rating=4.744983673095703), Row(beer_beerid=519, rating=4.744692325592041), Row(beer_beerid=56573, rating=4.744692325592041), Row(beer_beerid=2955, rating=4.744692325592041), Row(beer_beerid=473, rating=4.744692325592041), Row(beer_beerid=1801, rating=4.744692325592041), Row(beer_beerid=41561, rating=4.743597984313965), Row(beer_beerid=42714, rating=4.743597984313965), Row(beer_beerid=36345, rating=4.743597984313965), Row(beer_beerid=35978, rating=4.743597984313965), Row(beer_beerid=33273, rating=4.743597984313965), Row(beer_beerid=6445, rating=4.743597984313965), Row(beer_beerid=33402, rating=4.743597984313965), Row(beer_beerid=37855, rating=4.743597984313965), Row(beer_beerid=35355, rating=4.743597984313965), Row(beer_beerid=75324, rating=4.742697238922119), Row(beer_beerid=60120, rating=4.742363929748535), Row(beer_beerid=62335, rating=4.742363929748535), Row(beer_beerid=61121, rating=4.742077350616455), Row(beer_beerid=31338, rating=4.741151332855225), Row(beer_beerid=70054, rating=4.740711688995361), Row(beer_beerid=8584, rating=4.736422061920166)])]"
      ]
     },
     "execution_count": 123,
     "metadata": {},
     "output_type": "execute_result"
    }
   ],
   "source": [
    "users = df_users_als.select('user_id')\n",
    "userSubsetRecs = model.recommendForUserSubset(users, 200)\n",
    "userSubsetRecs.take(10)"
   ]
  },
  {
   "cell_type": "code",
   "execution_count": 125,
   "id": "66c96f26",
   "metadata": {},
   "outputs": [],
   "source": [
    "spark_esimations = userSubsetRecs.toPandas()"
   ]
  },
  {
   "cell_type": "code",
   "execution_count": 126,
   "id": "9fc24dc7",
   "metadata": {},
   "outputs": [
    {
     "data": {
      "text/html": [
       "<div>\n",
       "<style scoped>\n",
       "    .dataframe tbody tr th:only-of-type {\n",
       "        vertical-align: middle;\n",
       "    }\n",
       "\n",
       "    .dataframe tbody tr th {\n",
       "        vertical-align: top;\n",
       "    }\n",
       "\n",
       "    .dataframe thead th {\n",
       "        text-align: right;\n",
       "    }\n",
       "</style>\n",
       "<table border=\"1\" class=\"dataframe\">\n",
       "  <thead>\n",
       "    <tr style=\"text-align: right;\">\n",
       "      <th></th>\n",
       "      <th>user_id</th>\n",
       "      <th>recommendations</th>\n",
       "    </tr>\n",
       "  </thead>\n",
       "  <tbody>\n",
       "    <tr>\n",
       "      <th>0</th>\n",
       "      <td>5803</td>\n",
       "      <td>[(24961, 5.167754173278809), (32744, 5.1210608...</td>\n",
       "    </tr>\n",
       "    <tr>\n",
       "      <th>1</th>\n",
       "      <td>29853</td>\n",
       "      <td>[(8553, 4.585690975189209), (32744, 4.56911849...</td>\n",
       "    </tr>\n",
       "    <tr>\n",
       "      <th>2</th>\n",
       "      <td>7788</td>\n",
       "      <td>[(54487, 5.1220383644104), (57390, 5.122038364...</td>\n",
       "    </tr>\n",
       "    <tr>\n",
       "      <th>3</th>\n",
       "      <td>236</td>\n",
       "      <td>[(32744, 5.110413551330566), (24961, 5.0395793...</td>\n",
       "    </tr>\n",
       "    <tr>\n",
       "      <th>4</th>\n",
       "      <td>5478</td>\n",
       "      <td>[(32744, 6.039188861846924), (24961, 5.9656605...</td>\n",
       "    </tr>\n",
       "    <tr>\n",
       "      <th>5</th>\n",
       "      <td>21429</td>\n",
       "      <td>[(24961, 5.476594924926758), (21596, 5.3421287...</td>\n",
       "    </tr>\n",
       "    <tr>\n",
       "      <th>6</th>\n",
       "      <td>1122</td>\n",
       "      <td>[(24961, 5.104242324829102), (32744, 5.0305242...</td>\n",
       "    </tr>\n",
       "    <tr>\n",
       "      <th>7</th>\n",
       "      <td>22160</td>\n",
       "      <td>[(24961, 4.47920560836792), (57582, 4.46593523...</td>\n",
       "    </tr>\n",
       "    <tr>\n",
       "      <th>8</th>\n",
       "      <td>11168</td>\n",
       "      <td>[(24961, 5.075491428375244), (63061, 5.0120224...</td>\n",
       "    </tr>\n",
       "    <tr>\n",
       "      <th>9</th>\n",
       "      <td>2183</td>\n",
       "      <td>[(24961, 5.273130893707275), (32744, 5.1854581...</td>\n",
       "    </tr>\n",
       "    <tr>\n",
       "      <th>10</th>\n",
       "      <td>9164</td>\n",
       "      <td>[(24961, 5.556040287017822), (32744, 5.5166759...</td>\n",
       "    </tr>\n",
       "    <tr>\n",
       "      <th>11</th>\n",
       "      <td>9570</td>\n",
       "      <td>[(32744, 6.136321067810059), (76354, 6.0489697...</td>\n",
       "    </tr>\n",
       "    <tr>\n",
       "      <th>12</th>\n",
       "      <td>6416</td>\n",
       "      <td>[(24961, 4.571864128112793), (32744, 4.5258822...</td>\n",
       "    </tr>\n",
       "    <tr>\n",
       "      <th>13</th>\n",
       "      <td>10347</td>\n",
       "      <td>[(24961, 5.073354721069336), (32744, 5.0228586...</td>\n",
       "    </tr>\n",
       "    <tr>\n",
       "      <th>14</th>\n",
       "      <td>5861</td>\n",
       "      <td>[(24961, 5.2932868003845215), (32744, 5.235795...</td>\n",
       "    </tr>\n",
       "    <tr>\n",
       "      <th>15</th>\n",
       "      <td>3401</td>\n",
       "      <td>[(54487, 5.3112688064575195), (57390, 5.311268...</td>\n",
       "    </tr>\n",
       "    <tr>\n",
       "      <th>16</th>\n",
       "      <td>6240</td>\n",
       "      <td>[(24961, 5.237072467803955), (32744, 5.1958732...</td>\n",
       "    </tr>\n",
       "    <tr>\n",
       "      <th>17</th>\n",
       "      <td>594</td>\n",
       "      <td>[(32744, 5.204472541809082), (24961, 5.2014203...</td>\n",
       "    </tr>\n",
       "    <tr>\n",
       "      <th>18</th>\n",
       "      <td>1369</td>\n",
       "      <td>[(24864, 5.039703369140625), (24961, 4.9902720...</td>\n",
       "    </tr>\n",
       "    <tr>\n",
       "      <th>19</th>\n",
       "      <td>29539</td>\n",
       "      <td>[(54487, 5.454412460327148), (57390, 5.4544124...</td>\n",
       "    </tr>\n",
       "    <tr>\n",
       "      <th>20</th>\n",
       "      <td>6657</td>\n",
       "      <td>[(32744, 5.7743611335754395), (24961, 5.692659...</td>\n",
       "    </tr>\n",
       "    <tr>\n",
       "      <th>21</th>\n",
       "      <td>2579</td>\n",
       "      <td>[(32744, 4.928277492523193), (35361, 4.8954710...</td>\n",
       "    </tr>\n",
       "    <tr>\n",
       "      <th>22</th>\n",
       "      <td>26310</td>\n",
       "      <td>[(24961, 5.699373722076416), (32744, 5.6676073...</td>\n",
       "    </tr>\n",
       "    <tr>\n",
       "      <th>23</th>\n",
       "      <td>11022</td>\n",
       "      <td>[(24864, 5.035106658935547), (36166, 4.9868087...</td>\n",
       "    </tr>\n",
       "    <tr>\n",
       "      <th>24</th>\n",
       "      <td>9142</td>\n",
       "      <td>[(32744, 5.317584037780762), (24961, 5.3162603...</td>\n",
       "    </tr>\n",
       "    <tr>\n",
       "      <th>25</th>\n",
       "      <td>12570</td>\n",
       "      <td>[(24961, 4.406983375549316), (32744, 4.2114796...</td>\n",
       "    </tr>\n",
       "    <tr>\n",
       "      <th>26</th>\n",
       "      <td>3693</td>\n",
       "      <td>[(24961, 5.197507858276367), (32744, 5.1644611...</td>\n",
       "    </tr>\n",
       "    <tr>\n",
       "      <th>27</th>\n",
       "      <td>21438</td>\n",
       "      <td>[(38360, 6.289262294769287), (2205, 6.08724784...</td>\n",
       "    </tr>\n",
       "    <tr>\n",
       "      <th>28</th>\n",
       "      <td>22221</td>\n",
       "      <td>[(24961, 5.324985504150391), (24864, 5.2566666...</td>\n",
       "    </tr>\n",
       "    <tr>\n",
       "      <th>29</th>\n",
       "      <td>1895</td>\n",
       "      <td>[(32744, 5.1106157302856445), (24961, 5.070002...</td>\n",
       "    </tr>\n",
       "    <tr>\n",
       "      <th>30</th>\n",
       "      <td>6048</td>\n",
       "      <td>[(24961, 4.915682315826416), (32744, 4.9083671...</td>\n",
       "    </tr>\n",
       "    <tr>\n",
       "      <th>31</th>\n",
       "      <td>1281</td>\n",
       "      <td>[(28603, 4.866323471069336), (57582, 4.7153797...</td>\n",
       "    </tr>\n",
       "    <tr>\n",
       "      <th>32</th>\n",
       "      <td>5263</td>\n",
       "      <td>[(32744, 5.097634315490723), (24961, 5.0575718...</td>\n",
       "    </tr>\n",
       "    <tr>\n",
       "      <th>33</th>\n",
       "      <td>865</td>\n",
       "      <td>[(36166, 4.9047770500183105), (35361, 4.897067...</td>\n",
       "    </tr>\n",
       "    <tr>\n",
       "      <th>34</th>\n",
       "      <td>6785</td>\n",
       "      <td>[(53732, 5.3482794761657715), (51494, 5.180699...</td>\n",
       "    </tr>\n",
       "    <tr>\n",
       "      <th>35</th>\n",
       "      <td>2028</td>\n",
       "      <td>[(32744, 5.018307685852051), (24961, 4.9660620...</td>\n",
       "    </tr>\n",
       "    <tr>\n",
       "      <th>36</th>\n",
       "      <td>3946</td>\n",
       "      <td>[(24961, 4.932696342468262), (32744, 4.9322524...</td>\n",
       "    </tr>\n",
       "    <tr>\n",
       "      <th>37</th>\n",
       "      <td>21435</td>\n",
       "      <td>[(49042, 5.9592695236206055), (47661, 5.959269...</td>\n",
       "    </tr>\n",
       "    <tr>\n",
       "      <th>38</th>\n",
       "      <td>1964</td>\n",
       "      <td>[(51494, 5.226644515991211), (32744, 5.2031569...</td>\n",
       "    </tr>\n",
       "    <tr>\n",
       "      <th>39</th>\n",
       "      <td>9788</td>\n",
       "      <td>[(24961, 5.276787757873535), (32744, 5.1849842...</td>\n",
       "    </tr>\n",
       "    <tr>\n",
       "      <th>40</th>\n",
       "      <td>17089</td>\n",
       "      <td>[(24961, 4.871048450469971), (20480, 4.5688605...</td>\n",
       "    </tr>\n",
       "    <tr>\n",
       "      <th>41</th>\n",
       "      <td>0</td>\n",
       "      <td>[(53732, 6.138183116912842), (73376, 5.9631953...</td>\n",
       "    </tr>\n",
       "    <tr>\n",
       "      <th>42</th>\n",
       "      <td>10192</td>\n",
       "      <td>[(32744, 5.846017837524414), (57582, 5.7506237...</td>\n",
       "    </tr>\n",
       "    <tr>\n",
       "      <th>43</th>\n",
       "      <td>29201</td>\n",
       "      <td>[(24864, 5.866994857788086), (32744, 5.8177652...</td>\n",
       "    </tr>\n",
       "    <tr>\n",
       "      <th>44</th>\n",
       "      <td>6544</td>\n",
       "      <td>[(32744, 5.051468372344971), (57582, 5.0186204...</td>\n",
       "    </tr>\n",
       "    <tr>\n",
       "      <th>45</th>\n",
       "      <td>2310</td>\n",
       "      <td>[(32744, 5.128757476806641), (24961, 5.0851454...</td>\n",
       "    </tr>\n",
       "  </tbody>\n",
       "</table>\n",
       "</div>"
      ],
      "text/plain": [
       "    user_id                                    recommendations\n",
       "0      5803  [(24961, 5.167754173278809), (32744, 5.1210608...\n",
       "1     29853  [(8553, 4.585690975189209), (32744, 4.56911849...\n",
       "2      7788  [(54487, 5.1220383644104), (57390, 5.122038364...\n",
       "3       236  [(32744, 5.110413551330566), (24961, 5.0395793...\n",
       "4      5478  [(32744, 6.039188861846924), (24961, 5.9656605...\n",
       "5     21429  [(24961, 5.476594924926758), (21596, 5.3421287...\n",
       "6      1122  [(24961, 5.104242324829102), (32744, 5.0305242...\n",
       "7     22160  [(24961, 4.47920560836792), (57582, 4.46593523...\n",
       "8     11168  [(24961, 5.075491428375244), (63061, 5.0120224...\n",
       "9      2183  [(24961, 5.273130893707275), (32744, 5.1854581...\n",
       "10     9164  [(24961, 5.556040287017822), (32744, 5.5166759...\n",
       "11     9570  [(32744, 6.136321067810059), (76354, 6.0489697...\n",
       "12     6416  [(24961, 4.571864128112793), (32744, 4.5258822...\n",
       "13    10347  [(24961, 5.073354721069336), (32744, 5.0228586...\n",
       "14     5861  [(24961, 5.2932868003845215), (32744, 5.235795...\n",
       "15     3401  [(54487, 5.3112688064575195), (57390, 5.311268...\n",
       "16     6240  [(24961, 5.237072467803955), (32744, 5.1958732...\n",
       "17      594  [(32744, 5.204472541809082), (24961, 5.2014203...\n",
       "18     1369  [(24864, 5.039703369140625), (24961, 4.9902720...\n",
       "19    29539  [(54487, 5.454412460327148), (57390, 5.4544124...\n",
       "20     6657  [(32744, 5.7743611335754395), (24961, 5.692659...\n",
       "21     2579  [(32744, 4.928277492523193), (35361, 4.8954710...\n",
       "22    26310  [(24961, 5.699373722076416), (32744, 5.6676073...\n",
       "23    11022  [(24864, 5.035106658935547), (36166, 4.9868087...\n",
       "24     9142  [(32744, 5.317584037780762), (24961, 5.3162603...\n",
       "25    12570  [(24961, 4.406983375549316), (32744, 4.2114796...\n",
       "26     3693  [(24961, 5.197507858276367), (32744, 5.1644611...\n",
       "27    21438  [(38360, 6.289262294769287), (2205, 6.08724784...\n",
       "28    22221  [(24961, 5.324985504150391), (24864, 5.2566666...\n",
       "29     1895  [(32744, 5.1106157302856445), (24961, 5.070002...\n",
       "30     6048  [(24961, 4.915682315826416), (32744, 4.9083671...\n",
       "31     1281  [(28603, 4.866323471069336), (57582, 4.7153797...\n",
       "32     5263  [(32744, 5.097634315490723), (24961, 5.0575718...\n",
       "33      865  [(36166, 4.9047770500183105), (35361, 4.897067...\n",
       "34     6785  [(53732, 5.3482794761657715), (51494, 5.180699...\n",
       "35     2028  [(32744, 5.018307685852051), (24961, 4.9660620...\n",
       "36     3946  [(24961, 4.932696342468262), (32744, 4.9322524...\n",
       "37    21435  [(49042, 5.9592695236206055), (47661, 5.959269...\n",
       "38     1964  [(51494, 5.226644515991211), (32744, 5.2031569...\n",
       "39     9788  [(24961, 5.276787757873535), (32744, 5.1849842...\n",
       "40    17089  [(24961, 4.871048450469971), (20480, 4.5688605...\n",
       "41        0  [(53732, 6.138183116912842), (73376, 5.9631953...\n",
       "42    10192  [(32744, 5.846017837524414), (57582, 5.7506237...\n",
       "43    29201  [(24864, 5.866994857788086), (32744, 5.8177652...\n",
       "44     6544  [(32744, 5.051468372344971), (57582, 5.0186204...\n",
       "45     2310  [(32744, 5.128757476806641), (24961, 5.0851454..."
      ]
     },
     "execution_count": 126,
     "metadata": {},
     "output_type": "execute_result"
    }
   ],
   "source": [
    "spark_esimations"
   ]
  },
  {
   "cell_type": "code",
   "execution_count": 130,
   "id": "d0f761e2",
   "metadata": {},
   "outputs": [
    {
     "data": {
      "text/plain": [
       "5803"
      ]
     },
     "execution_count": 130,
     "metadata": {},
     "output_type": "execute_result"
    }
   ],
   "source": [
    "spark_esimations.iloc[0]['user_id']"
   ]
  },
  {
   "cell_type": "code",
   "execution_count": 136,
   "id": "c67f532c",
   "metadata": {},
   "outputs": [],
   "source": [
    "ratings = []\n",
    "user_ids = []\n",
    "beer_ids = []\n",
    "\n",
    "for user in range(len(spark_esimations)):\n",
    "        for reviews in range(len(spark_esimations.iloc[user]['recommendations'])):\n",
    "            ratings.append(spark_esimations.iloc[user]['recommendations'][reviews][1])\n",
    "            beer_ids.append(spark_esimations.iloc[user]['recommendations'][reviews][0])\n",
    "            user_ids.append(spark_esimations.iloc[user]['user_id'])\n",
    "            \n",
    "ratings_export_spark = pd.DataFrame()\n",
    "ratings_export_spark['ratings'] = ratings\n",
    "ratings_export_spark['user_id'] = user_ids\n",
    "ratings_export_spark['beer_id'] = beer_ids\n",
    "\n",
    "ratings_export_spark[ratings_export_spark['user_id']==0]\n",
    "\n",
    "ratings_export_spark.to_json('predictions_spark_als.json')"
   ]
  },
  {
   "cell_type": "code",
   "execution_count": 124,
   "id": "3c4cda02",
   "metadata": {},
   "outputs": [
    {
     "name": "stdout",
     "output_type": "stream",
     "text": [
      "root\n",
      " |-- user_id: integer (nullable = false)\n",
      " |-- recommendations: array (nullable = true)\n",
      " |    |-- element: struct (containsNull = true)\n",
      " |    |    |-- beer_beerid: integer (nullable = true)\n",
      " |    |    |-- rating: float (nullable = true)\n",
      "\n"
     ]
    }
   ],
   "source": [
    "userSubsetRecs.printSchema()"
   ]
  }
 ],
 "metadata": {
  "kernelspec": {
   "display_name": "Python 3 (ipykernel)",
   "language": "python",
   "name": "python3"
  },
  "language_info": {
   "codemirror_mode": {
    "name": "ipython",
    "version": 3
   },
   "file_extension": ".py",
   "mimetype": "text/x-python",
   "name": "python",
   "nbconvert_exporter": "python",
   "pygments_lexer": "ipython3",
   "version": "3.9.13"
  }
 },
 "nbformat": 4,
 "nbformat_minor": 5
}
